{
 "cells": [
  {
   "cell_type": "code",
   "execution_count": 1,
   "metadata": {},
   "outputs": [],
   "source": [
    "import carrega_sas"
   ]
  },
  {
   "cell_type": "code",
   "execution_count": 2,
   "metadata": {},
   "outputs": [
    {
     "name": "stdout",
     "output_type": "stream",
     "text": [
      "Lendo dados da base 'DadosComprasNet.sqlite'... OK.\n",
      "Using SAS Config named: winiomlinux\n",
      "SAS Connection established. Subprocess id is 18760\n",
      "\n",
      "Carregando tabela BASE_PREGAO... OK.\n",
      "Carregando tabela BASE_PREGAO_ITEM... OK.\n",
      "Carregando tabela BASE_PREGAO_PROPOSTA... Transcoding error encountered.\n",
      "DataFrame contains characters that can't be transcoded into the SAS session encoding.\n",
      "'latin-1' codec can't encode character '\\u2122' in position 11: ordinal not in range(256)\n",
      "OK.\n",
      "Carregando tabela BASE_PREGAO_ADJUDICACAO... OK.\n",
      "SAS Connection terminated. Subprocess id was 18760\n",
      "\n",
      "Dados carregados em 0.0h:0.0m:53.04629850387573s.\n"
     ]
    }
   ],
   "source": [
    "carrega_sas.main()"
   ]
  },
  {
   "cell_type": "code",
   "execution_count": 5,
   "metadata": {},
   "outputs": [],
   "source": [
    "from config import SQLITE_DB, SAS_LIBREF\n",
    "import saspy\n",
    "import sqlite3\n",
    "import pandas as pd\n",
    "import time"
   ]
  },
  {
   "cell_type": "code",
   "execution_count": 6,
   "metadata": {},
   "outputs": [],
   "source": [
    "con = sqlite3.connect(SQLITE_DB)"
   ]
  },
  {
   "cell_type": "code",
   "execution_count": 7,
   "metadata": {},
   "outputs": [],
   "source": [
    "tabelas = {\n",
    "    'pregao': 'BASE_PREGAO',\n",
    "    'item': 'BASE_PREGAO_ITEM',\n",
    "    'proposta': 'BASE_PREGAO_PROPOSTA',\n",
    "    'adjudicacao': 'BASE_PREGAO_ADJUDICACAO'\n",
    "}"
   ]
  },
  {
   "cell_type": "code",
   "execution_count": 8,
   "metadata": {},
   "outputs": [],
   "source": [
    "def de_sqlite():\n",
    "    \"\"\"\n",
    "    Lê os dados da base sqlite para dataframes.\n",
    "    :param tabelas: dicionário contendo os nomes das tabelas.\n",
    "    :return dfs: dicionário contendo os dataframes correspondentes a cada\n",
    "    tabela.\n",
    "    \"\"\"\n",
    "    dfs = {}\n",
    "    print(f\"Lendo dados da base '{SQLITE_DB}'... \", end='')\n",
    "    for k, v in tabelas.items():\n",
    "        dfs[k] = pd.read_sql(f'SELECT * FROM {v}', con, parse_dates=True)\n",
    "    print('OK.')\n",
    "    con.close()\n",
    "    return dfs"
   ]
  },
  {
   "cell_type": "code",
   "execution_count": 9,
   "metadata": {},
   "outputs": [
    {
     "name": "stdout",
     "output_type": "stream",
     "text": [
      "Lendo dados da base 'DadosComprasNet.sqlite'... OK.\n"
     ]
    }
   ],
   "source": [
    "dfs = de_sqlite()"
   ]
  },
  {
   "cell_type": "code",
   "execution_count": 10,
   "metadata": {},
   "outputs": [],
   "source": [
    "def prepara_latin1(entrada):\n",
    "    \"\"\"\n",
    "    Substitui caracteres utf-8 que não podem ser codificados em latin_1 por\n",
    "    similares, para evitar problemas na conversão efetuada pelo SAS.\n",
    "    :param entrada: string\n",
    "    :return: string\n",
    "    \"\"\"\n",
    "    saida = entrada\n",
    "    if isinstance(entrada, str):\n",
    "        saida = re.sub('[\\u201d\\u201c]', '\"', entrada)\n",
    "        saida = re.sub('[\\u2019\\u2018]', '\\'', saida)\n",
    "        saida = re.sub('[\\u2013]', '--', saida)\n",
    "        saida = re.sub('[\\u2122]', '\\(TM\\)', saida)\n",
    "        saida = re.sub('[\\u2022]', '*', saida)\n",
    "        saida = re.sub('[\\u2014]', '--', saida)\n",
    "        saida = re.sub('[\\u02c6]', '^', saida)\n",
    "        saida = saida.encode('latin1', errors='replace').decode('latin1')\n",
    "    return saida"
   ]
  },
  {
   "cell_type": "code",
   "execution_count": 11,
   "metadata": {},
   "outputs": [],
   "source": [
    "import re"
   ]
  },
  {
   "cell_type": "code",
   "execution_count": 12,
   "metadata": {},
   "outputs": [],
   "source": [
    "dfs['proposta'] = dfs['proposta'].applymap(prepara_latin1)"
   ]
  },
  {
   "cell_type": "code",
   "execution_count": 13,
   "metadata": {},
   "outputs": [
    {
     "data": {
      "text/plain": [
       "267985"
      ]
     },
     "execution_count": 13,
     "metadata": {},
     "output_type": "execute_result"
    }
   ],
   "source": [
    "len(dfs['proposta'])"
   ]
  },
  {
   "cell_type": "code",
   "execution_count": 14,
   "metadata": {},
   "outputs": [
    {
     "name": "stdout",
     "output_type": "stream",
     "text": [
      "Using SAS Config named: winiomlinux\n",
      "SAS Connection established. Subprocess id is 19824\n",
      "\n"
     ]
    }
   ],
   "source": [
    "sas = saspy.SASsession()"
   ]
  },
  {
   "cell_type": "code",
   "execution_count": 15,
   "metadata": {},
   "outputs": [],
   "source": [
    "prop = dfs['proposta']"
   ]
  },
  {
   "cell_type": "code",
   "execution_count": 22,
   "metadata": {},
   "outputs": [
    {
     "data": {
      "text/html": [
       "<div>\n",
       "<style scoped>\n",
       "    .dataframe tbody tr th:only-of-type {\n",
       "        vertical-align: middle;\n",
       "    }\n",
       "\n",
       "    .dataframe tbody tr th {\n",
       "        vertical-align: top;\n",
       "    }\n",
       "\n",
       "    .dataframe thead th {\n",
       "        text-align: right;\n",
       "    }\n",
       "</style>\n",
       "<table border=\"1\" class=\"dataframe\">\n",
       "  <thead>\n",
       "    <tr style=\"text-align: right;\">\n",
       "      <th></th>\n",
       "      <th>descricaoItem</th>\n",
       "      <th>quantidadeItens</th>\n",
       "      <th>valorEstimadoItem</th>\n",
       "      <th>descricaoComplementarItem</th>\n",
       "      <th>tratamentoDiferenciado</th>\n",
       "      <th>decreto7174</th>\n",
       "      <th>margemPreferencial</th>\n",
       "      <th>unidadeFornecimento</th>\n",
       "      <th>situacaoItem</th>\n",
       "      <th>fornecedorVencedor</th>\n",
       "      <th>...</th>\n",
       "      <th>declaracaoSuperveniente</th>\n",
       "      <th>declaracaoInfantil</th>\n",
       "      <th>declaracaoIndependente</th>\n",
       "      <th>descricaoDeclaracaoCiencia</th>\n",
       "      <th>descricaoMotivoCancelamento</th>\n",
       "      <th>valorClassificado</th>\n",
       "      <th>valorNegociado</th>\n",
       "      <th>observacoes</th>\n",
       "      <th>anexosProposta</th>\n",
       "      <th>idItem</th>\n",
       "    </tr>\n",
       "  </thead>\n",
       "  <tbody>\n",
       "    <tr>\n",
       "      <th>267980</th>\n",
       "      <td>Prestação de Serviço de Vigilância e Segurança...</td>\n",
       "      <td>100</td>\n",
       "      <td>21125.0</td>\n",
       "      <td>SEGURANÇA PARA EVENTOS.</td>\n",
       "      <td>None</td>\n",
       "      <td>Não</td>\n",
       "      <td>Não</td>\n",
       "      <td>Diária</td>\n",
       "      <td>homologado</td>\n",
       "      <td>None</td>\n",
       "      <td>...</td>\n",
       "      <td>Sim</td>\n",
       "      <td>Sim</td>\n",
       "      <td>Sim</td>\n",
       "      <td>None</td>\n",
       "      <td>None</td>\n",
       "      <td>None</td>\n",
       "      <td>None</td>\n",
       "      <td>None</td>\n",
       "      <td>/pregoes/v1/anexo_proposta.html?co_proposta=56...</td>\n",
       "      <td>11010532</td>\n",
       "    </tr>\n",
       "    <tr>\n",
       "      <th>267981</th>\n",
       "      <td>Prestação de Serviço de Vigilância e Segurança...</td>\n",
       "      <td>100</td>\n",
       "      <td>21125.0</td>\n",
       "      <td>SEGURANÇA PARA EVENTOS.</td>\n",
       "      <td>None</td>\n",
       "      <td>Não</td>\n",
       "      <td>Não</td>\n",
       "      <td>Diária</td>\n",
       "      <td>homologado</td>\n",
       "      <td>None</td>\n",
       "      <td>...</td>\n",
       "      <td>Sim</td>\n",
       "      <td>Sim</td>\n",
       "      <td>Sim</td>\n",
       "      <td>None</td>\n",
       "      <td>None</td>\n",
       "      <td>None</td>\n",
       "      <td>None</td>\n",
       "      <td>None</td>\n",
       "      <td>/pregoes/v1/anexo_proposta.html?co_proposta=55...</td>\n",
       "      <td>11010532</td>\n",
       "    </tr>\n",
       "    <tr>\n",
       "      <th>267982</th>\n",
       "      <td>Prestação de Serviço de Vigilância e Segurança...</td>\n",
       "      <td>100</td>\n",
       "      <td>21125.0</td>\n",
       "      <td>SEGURANÇA PARA EVENTOS.</td>\n",
       "      <td>None</td>\n",
       "      <td>Não</td>\n",
       "      <td>Não</td>\n",
       "      <td>Diária</td>\n",
       "      <td>homologado</td>\n",
       "      <td>None</td>\n",
       "      <td>...</td>\n",
       "      <td>Sim</td>\n",
       "      <td>Sim</td>\n",
       "      <td>Sim</td>\n",
       "      <td>None</td>\n",
       "      <td>None</td>\n",
       "      <td>None</td>\n",
       "      <td>None</td>\n",
       "      <td>None</td>\n",
       "      <td>/pregoes/v1/anexo_proposta.html?co_proposta=56...</td>\n",
       "      <td>11010532</td>\n",
       "    </tr>\n",
       "    <tr>\n",
       "      <th>267983</th>\n",
       "      <td>Prestação de Serviço de Vigilância e Segurança...</td>\n",
       "      <td>100</td>\n",
       "      <td>21125.0</td>\n",
       "      <td>SEGURANÇA PARA EVENTOS.</td>\n",
       "      <td>None</td>\n",
       "      <td>Não</td>\n",
       "      <td>Não</td>\n",
       "      <td>Diária</td>\n",
       "      <td>homologado</td>\n",
       "      <td>None</td>\n",
       "      <td>...</td>\n",
       "      <td>Sim</td>\n",
       "      <td>Sim</td>\n",
       "      <td>Sim</td>\n",
       "      <td>None</td>\n",
       "      <td>None</td>\n",
       "      <td>None</td>\n",
       "      <td>None</td>\n",
       "      <td>None</td>\n",
       "      <td>/pregoes/v1/anexo_proposta.html?co_proposta=56...</td>\n",
       "      <td>11010532</td>\n",
       "    </tr>\n",
       "    <tr>\n",
       "      <th>267984</th>\n",
       "      <td>Prestação de Serviço de Vigilância e Segurança...</td>\n",
       "      <td>100</td>\n",
       "      <td>21125.0</td>\n",
       "      <td>SEGURANÇA PARA EVENTOS.</td>\n",
       "      <td>None</td>\n",
       "      <td>Não</td>\n",
       "      <td>Não</td>\n",
       "      <td>Diária</td>\n",
       "      <td>homologado</td>\n",
       "      <td>None</td>\n",
       "      <td>...</td>\n",
       "      <td>Sim</td>\n",
       "      <td>Sim</td>\n",
       "      <td>Sim</td>\n",
       "      <td>None</td>\n",
       "      <td>None</td>\n",
       "      <td>None</td>\n",
       "      <td>None</td>\n",
       "      <td>None</td>\n",
       "      <td>/pregoes/v1/anexo_proposta.html?co_proposta=56...</td>\n",
       "      <td>11010532</td>\n",
       "    </tr>\n",
       "  </tbody>\n",
       "</table>\n",
       "<p>5 rows × 35 columns</p>\n",
       "</div>"
      ],
      "text/plain": [
       "                                            descricaoItem quantidadeItens  \\\n",
       "267980  Prestação de Serviço de Vigilância e Segurança...             100   \n",
       "267981  Prestação de Serviço de Vigilância e Segurança...             100   \n",
       "267982  Prestação de Serviço de Vigilância e Segurança...             100   \n",
       "267983  Prestação de Serviço de Vigilância e Segurança...             100   \n",
       "267984  Prestação de Serviço de Vigilância e Segurança...             100   \n",
       "\n",
       "        valorEstimadoItem descricaoComplementarItem tratamentoDiferenciado  \\\n",
       "267980            21125.0   SEGURANÇA PARA EVENTOS.                   None   \n",
       "267981            21125.0   SEGURANÇA PARA EVENTOS.                   None   \n",
       "267982            21125.0   SEGURANÇA PARA EVENTOS.                   None   \n",
       "267983            21125.0   SEGURANÇA PARA EVENTOS.                   None   \n",
       "267984            21125.0   SEGURANÇA PARA EVENTOS.                   None   \n",
       "\n",
       "       decreto7174 margemPreferencial   unidadeFornecimento situacaoItem  \\\n",
       "267980         Não                Não  Diária                 homologado   \n",
       "267981         Não                Não  Diária                 homologado   \n",
       "267982         Não                Não  Diária                 homologado   \n",
       "267983         Não                Não  Diária                 homologado   \n",
       "267984         Não                Não  Diária                 homologado   \n",
       "\n",
       "       fornecedorVencedor  ...  declaracaoSuperveniente declaracaoInfantil  \\\n",
       "267980               None  ...                      Sim                Sim   \n",
       "267981               None  ...                      Sim                Sim   \n",
       "267982               None  ...                      Sim                Sim   \n",
       "267983               None  ...                      Sim                Sim   \n",
       "267984               None  ...                      Sim                Sim   \n",
       "\n",
       "       declaracaoIndependente descricaoDeclaracaoCiencia  \\\n",
       "267980                    Sim                       None   \n",
       "267981                    Sim                       None   \n",
       "267982                    Sim                       None   \n",
       "267983                    Sim                       None   \n",
       "267984                    Sim                       None   \n",
       "\n",
       "       descricaoMotivoCancelamento valorClassificado valorNegociado  \\\n",
       "267980                        None              None           None   \n",
       "267981                        None              None           None   \n",
       "267982                        None              None           None   \n",
       "267983                        None              None           None   \n",
       "267984                        None              None           None   \n",
       "\n",
       "       observacoes                                     anexosProposta  \\\n",
       "267980        None  /pregoes/v1/anexo_proposta.html?co_proposta=56...   \n",
       "267981        None  /pregoes/v1/anexo_proposta.html?co_proposta=55...   \n",
       "267982        None  /pregoes/v1/anexo_proposta.html?co_proposta=56...   \n",
       "267983        None  /pregoes/v1/anexo_proposta.html?co_proposta=56...   \n",
       "267984        None  /pregoes/v1/anexo_proposta.html?co_proposta=56...   \n",
       "\n",
       "          idItem  \n",
       "267980  11010532  \n",
       "267981  11010532  \n",
       "267982  11010532  \n",
       "267983  11010532  \n",
       "267984  11010532  \n",
       "\n",
       "[5 rows x 35 columns]"
      ]
     },
     "execution_count": 22,
     "metadata": {},
     "output_type": "execute_result"
    }
   ],
   "source": [
    "prop.tail()"
   ]
  },
  {
   "cell_type": "code",
   "execution_count": 23,
   "metadata": {},
   "outputs": [
    {
     "data": {
      "text/plain": [
       "Libref  = LIB_MATR\n",
       "Table   = BASE_PREGAO_PROPOSTA\n",
       "Dsopts  = {}\n",
       "Results = Pandas"
      ]
     },
     "execution_count": 23,
     "metadata": {},
     "output_type": "execute_result"
    }
   ],
   "source": [
    "sas.df2sd(df=prop, table='BASE_PREGAO_PROPOSTA', libref='LIB_MATR')"
   ]
  },
  {
   "cell_type": "code",
   "execution_count": 24,
   "metadata": {},
   "outputs": [],
   "source": [
    "prop2 = sas.sd2df(table='BASE_PREGAO_PROPOSTA', libref='LIB_MATR')"
   ]
  },
  {
   "cell_type": "code",
   "execution_count": 25,
   "metadata": {},
   "outputs": [
    {
     "data": {
      "text/plain": [
       "1559"
      ]
     },
     "execution_count": 25,
     "metadata": {},
     "output_type": "execute_result"
    }
   ],
   "source": [
    "len(prop2)"
   ]
  },
  {
   "cell_type": "code",
   "execution_count": 27,
   "metadata": {},
   "outputs": [],
   "source": [
    "log = sas.saslog()"
   ]
  },
  {
   "cell_type": "code",
   "execution_count": 30,
   "metadata": {},
   "outputs": [
    {
     "data": {
      "text/plain": [
       "'ERROR: INPUT statement exceeded record length. INFILE CARDS OPTION STOPOVER specified.\\nRULE:      ----+----1----+----2----+----3----+----4----+----5----+----6----+----7----+----8----+----9----+----0                     \\n\\n2198CHAR   ALMOFADA CARIMBO.250.1883.0.ALMOFADA CARIMBO, MATERIAL CAIXA PLÁSTICO/METAL, TAMANHO Nº 3, COR AZUL,\\n    ZONE   444444442445444403330333323044444444244544442244545444244454254C5544424454422544444424B2322445245542\\n    NUMR   1CDF614103129D2F325031883E031CDF614103129D2F'"
      ]
     },
     "execution_count": 30,
     "metadata": {},
     "output_type": "execute_result"
    }
   ],
   "source": [
    "log[log.find('ERROR'):log.find('ERROR')+500]"
   ]
  },
  {
   "cell_type": "code",
   "execution_count": 33,
   "metadata": {},
   "outputs": [
    {
     "data": {
      "text/plain": [
       "'\\x0c1                                                          The SAS System                              18:24 Monday, August 26, 2019\\n\\nNOTE: Copyright (c) 2002-2012 by SAS Institute Inc., Cary, NC, USA. \\nNOTE: SAS (r) Proprietary Software 9.4 (TS1M4) \\n      Licensed to TC DF - TRIBUNAL DE CONTAS DO DISTRITO FEDERAL, Site 70201676.\\nNOTE: This session is executing on the Linux 2.6.32-642.el6.x86_64 (LIN X64) platform.\\n\\n\\n\\nNOTE: Updated analytical products:\\n      \\n      SAS/STAT 14.2\\n      SAS/ETS 14.2\\n\\nNOTE: Additional host information:\\n\\n Linux LIN X64 2.6.32-642.el6.x86_64 #1 SMP Tue May 10 17:27:01 UTC 2016 x86_64 CentOS release 6.8 (Final) \\n\\nYou are running SAS 9. Some SAS 8 files will be automatically converted \\nby the V9 engine; others are incompatible.  Please see \\nhttp://support.sas.com/rnd/migration/planning/platform/64bit.html\\n\\nPROC MIGRATE will preserve current SAS file attributes and is \\nrecommended for converting all your SAS libraries from any \\nSAS 8 release to SAS 9.  For details and examples, please see\\nhttp://support.sas.com/rnd/migration/index.html\\n\\n\\nThis message is contained in the SAS news file, and is presented upon\\ninitialization.  Edit the file \"news\" in the \"misc/base\" directory to\\ndisplay site-specific news and information in the program log.\\nThe command line option \"-nonews\" will prevent this display.\\n\\n\\n\\n\\nNOTE: SAS Initialization used (Total process time):\\n      real time           0.00 seconds\\n      cpu time            0.01 seconds\\n      \\nNOTE: The autoexec file, /sas/SASConfig/Lev1/SASApp/WorkspaceServer/autoexec.sas, was executed at server initialization.\\n1          ;*\\';*\";*/;\\n2          options svgtitle=\\'svgtitle\\'; options validvarname=any pagesize=max nosyntaxcheck; ods graphics on;\\n3          \\n4          ;*\\';*\";*/;\\n5          %put E3969440A681A2408885998500000001;\\nE3969440A681A2408885998500000001\\n6          \\n\\x0c2                                                          The SAS System                              18:24 Monday, August 26, 2019\\n\\n7          ;*\\';*\";*/;\\n8          options nosource;\\nWORKPATH=/sas/SASWork/SAS_work68B800007359_eris1.tcdf.net/SAS_work8FE200007359_eris1.tcdf.net\\nENDWORKPATH=\\nENCODING=latin1\\nSYSVLONG=9.04.01M4P11092016\\nSYSJOBID=29529\\nSYSSCP=LIN X64\\n16         \\n17         \\n18         ;*\\';*\";*/;\\n19         %put E3969440A681A2408885998500000002;\\nE3969440A681A2408885998500000002\\n20         \\n\\x0c3                                                          The SAS System                              18:24 Monday, August 26, 2019\\n\\n21         ;*\\';*\";*/;\\n22         \\n23                 data _null_; retain libref; retain cobs 1;\\n24                    set sashelp.vlibnam end=last;\\n25                    if cobs EQ 1 then\\n26                       put \"LIBREFSSTART\";\\n27                    cobs = 2;\\n28                    if libref NE libname then\\n29                       put \"LIBREF=\" libname;\\n30                    libref = libname;\\n31                    if last then\\n32                       put \"LIBREFSEND\";\\n33                 run;\\n\\nLIBREFSSTART\\nLIBREF=WORK\\nLIBREF=SASDATA\\nLIBREF=LIB_MATR\\nLIBREF=RFB\\nLIBREF=LIB_NIE\\nLIBREF=ECONTAS\\nLIBREF=SEGECEX\\nLIBREF=PESSOAS\\nLIBREF=SANCAO\\nLIBREF=RAIS\\nLIBREF=SISEDITA\\nLIBREF=STPSAMP\\nLIBREF=FCMENRCH\\nLIBREF=FCM_SLIB\\nLIBREF=FCMPREP\\nLIBREF=FCMATEMP\\nLIBREF=SASHELP\\nLIBREF=MAPS\\nLIBREF=MAPSSAS\\nLIBREF=MAPSGFK\\nLIBREF=SASUSER\\nLIBREFSEND\\nNOTE: There were 103 observations read from the data set SASHELP.VLIBNAM.\\nNOTE: MVA_DSIO.OPEN_CLOSE| _DISARM|         STOP| _DISARM| 2019-08-26T18:25:01,133-03:00| _DISARM| WorkspaceServer| _DISARM| SAS| \\n      _DISARM| | _DISARM| -1| _DISARM| 12746752| _DISARM| 11| _DISARM| 11| _DISARM| 0| _DISARM| 512| _DISARM| 0.010000| _DISARM| \\n      0.007363| _DISARM| 1882473901.126162| _DISARM| 1882473901.133525| _DISARM| 0.010000| _DISARM| | _ENDDISARM \\nNOTE: PROCEDURE| _DISARM|         STOP| _DISARM| 2019-08-26T18:25:01,136-03:00| _DISARM| WorkspaceServer| _DISARM| SAS| _DISARM| | \\n      _DISARM| 22224896| _DISARM| 12746752| _DISARM| 11| _DISARM| 11| _DISARM| 8| _DISARM| 512| _DISARM| 0.010000| _DISARM| \\n      0.015217| _DISARM| 1882473901.121005| _DISARM| 1882473901.136222| _DISARM| 0.010000| _DISARM| | _ENDDISARM \\nNOTE: DATA statement used (Total process time):\\n      real time           0.01 seconds\\n      cpu time            0.01 seconds\\n      \\n\\n34         \\n35         \\n36         ;*\\';*\";*/;\\n37         %put E3969440A681A2408885998500000003;\\nE3969440A681A2408885998500000003\\n38         \\n\\x0c4                                                          The SAS System                              18:24 Monday, August 26, 2019\\n\\n39         data LIB_MATR.BASE_PREGAO_PROPOSTA;\\n40         length  \\'descricaoItem\\'n $120 \\'quantidadeItens\\'n $14 \\'valorEstimadoItem\\'n 8 \\'descricaoComplementarItem\\'n $1248\\n40       ! \\'tratamentoDiferenciado\\'n $13 \\'decreto7174\\'n $15 \\'margemPreferencial\\'n $4 \\'unidadeFornecimento\\'n $20 \\'situacaoItem\\'n $24\\n40       ! \\'fornecedorVencedor\\'n $16 \\'valorMenorLance\\'n 8 \\'cpfCnpjFornecedor\\'n $14 \\'fornecedorProposta\\'n $4 \\'marcaItem\\'n $21\\n40       ! \\'descricaoFabricanteItem\\'n $51 \\'descricaoDetalhadaItem\\'n $5051 \\'porteEmpresa\\'n $25 \\'declaracaoMeEppCoop\\'n $4\\n40       ! \\'quantidadeItensProposta\\'n $99 \\'valorUnitario\\'n 8 \\'valorGlobal\\'n 8 \\'desconto\\'n $9 \\'valorComDesconto\\'n 8 \\'dataRegistro\\'n\\n40       ! $19 \\'dataDeclaracoes\\'n $19 \\'declaracaoSuperveniente\\'n $4 \\'declaracaoInfantil\\'n $4 \\'declaracaoIndependente\\'n $4\\n40       ! \\'descricaoDeclaracaoCiencia\\'n $4 \\'descricaoMotivoCancelamento\\'n $4 \\'valorClassificado\\'n $4 \\'valorNegociado\\'n $4\\n40       ! \\'observacoes\\'n $4 \\'anexosProposta\\'n $103 \\'idItem\\'n $8;\\n41         infile datalines delimiter=\\'03\\'x DSD STOPOVER;\\n42         input @;\\n43         if _infile_ = \\'\\' then delete;\\n44         input \\'descricaoItem\\'n \\'quantidadeItens\\'n \\'valorEstimadoItem\\'n \\'descricaoComplementarItem\\'n \\'tratamentoDiferenciado\\'n\\n44       ! \\'decreto7174\\'n \\'margemPreferencial\\'n \\'unidadeFornecimento\\'n \\'situacaoItem\\'n \\'fornecedorVencedor\\'n \\'valorMenorLance\\'n\\n44       ! \\'cpfCnpjFornecedor\\'n \\'fornecedorProposta\\'n \\'marcaItem\\'n \\'descricaoFabricanteItem\\'n \\'descricaoDetalhadaItem\\'n\\n44       ! \\'porteEmpresa\\'n \\'declaracaoMeEppCoop\\'n \\'quantidadeItensProposta\\'n \\'valorUnitario\\'n \\'valorGlobal\\'n \\'desconto\\'n\\n44       ! \\'valorComDesconto\\'n \\'dataRegistro\\'n \\'dataDeclaracoes\\'n \\'declaracaoSuperveniente\\'n \\'declaracaoInfantil\\'n\\n44       ! \\'declaracaoIndependente\\'n \\'descricaoDeclaracaoCiencia\\'n \\'descricaoMotivoCancelamento\\'n \\'valorClassificado\\'n\\n44       ! \\'valorNegociado\\'n \\'observacoes\\'n \\'anexosProposta\\'n \\'idItem\\'n ;\\n45         datalines4;\\n\\n\\x0c5                                                          The SAS System                              18:24 Monday, August 26, 2019\\n\\nERROR: INPUT statement exceeded record length. INFILE CARDS OPTION STOPOVER specified.\\nRULE:      ----+----1----+----2----+----3----+----4----+----5----+----6----+----7----+----8----+----9----+----0                     \\n\\n2198CHAR   ALMOFADA CARIMBO.250.1883.0.ALMOFADA CARIMBO, MATERIAL CAIXA PLÁSTICO/METAL, TAMANHO Nº 3, COR AZUL,\\n    ZONE   444444442445444403330333323044444444244544442244545444244454254C5544424454422544444424B2322445245542\\n    NUMR   1CDF614103129D2F325031883E031CDF614103129D2FC0D145291C03198100C13493FFD541CC041D1E8F0EA03C03F201A5CC\\nRULE:      ----+----1----+----2----+----3----+----4----+----5----+----6----+----7----+----8----+----9----+----0                     \\n\\n      101        COMPRIMENTO 12 CM, LARGURA 8 CM.None.None.None.UNIDADE             .homologado.None.280.0.0935\\n    ZONE   2222224445544445423324422445455423244046660466604666054444442222222222222066666666660466603332303333\\n    NUMR   0000003FD029D5E4F01203DC0C1275210803D3EFE53EFE53EFE535E94145000000000000038FDFCF714F3EFE53280E030935\\nRULE:      ----+----1----+----2----+----3----+----4----+----5----+----6----+----7----+----8----+----9----+----0                     \\n\\n      201  2448000149.None.Maxprint/Gramp line.Maxprint/Gramp line.ALMOFADA CARIMBO, MATERIAL CAIXA PLÁSTICO/ME\\n    ZONE   3333333333046660467776672476672666604677766724766726666044444444244544442244545444244454254C55444244\\n    NUMR   24480001493EFE53D18029E4F721D00C9E53D18029E4F721D00C9E531CDF614103129D2FC0D145291C03198100C13493FFD5\\nRULE:      ----+----1----+----2----+----3----+----4----+----5----+----6----+----7----+----8----+----9----+----0                     \\n      301  TAL, TAMANHO Nº 3, COR AZUL, COMPRIMENTO 12 CM, LARGURA 8 CM                                        \\nRULE:      ----+----1----+----2----+----3----+----4----+----5----+----6----+----7----+----8----+----9----+----0                     \\n      401                                                                                                      \\nRULE:      ----+----1----+----2----+----3----+----4----+----5----+----6----+----7----+----8----+----9----+----0                     \\n      501                                                                                                      \\nRULE:      ----+----1----+----2----+----3----+----4----+----5----+----6----+----7----+----8----+----9----+----0                     \\n      601                                                                                                      \\nRULE:      ----+----1----+----2----+----3----+----4----+----5----+----6----+----7----+----8----+----9----+----0                     \\n      701                                                                                                      \\nRULE:      ----+----1----+----2----+----3----+----4----+----5----+----6----+----7----+----8----+----9----+----0                     \\n      801                                                                                                      \\nRULE:      ----+----1----+----2----+----3----+----4----+----5----+----6----+----7----+----8----+----9----+----0                     \\n      901                                                                                                      \\nRULE:      ----+----1----+----2----+----3----+----4----+----5----+----6----+----7----+----8----+----9----+----0                     \\n     1001                                                                                                      \\nRULE:      ----+----1----+----2----+----3----+----4----+----5----+----6----+----7----+----8----+----9----+----0                     \\n     1101                                                                                                      \\nRULE:      ----+----1----+----2----+----3----+----4----+----5----+----6----+----7----+----8----+----9----+----0                     \\n     1201                                                                                                      \\nRULE:      ----+----1----+----2----+----3----+----4----+----5----+----6----+----7----+----8----+----9----+----0                     \\n     1301                                                                                                      \\nRULE:      ----+----1----+----2----+----3----+----4----+----5----+----6----+----7----+----8----+----9----+----0                     \\n     1401                                                                                                      \\nRULE:      ----+----1----+----2----+----3----+----4----+----5----+----6----+----7----+----8----+----9----+----0                     \\n     1501                                                                                                      \\nRULE:      ----+----1----+----2----+----3----+----4----+----5----+----6----+----7----+----8----+----9----+----0                     \\n     1601                                                                                                      \\nRULE:      ----+----1----+----2----+----3----+----4----+----5----+----6----+----7----+----8----+----9----+----0                     \\n     1701                                                                                                      \\nRULE:      ----+----1----+----2----+----3----+----4----+----5----+----6----+----7----+----8----+----9----+----0                     \\n     1801                                                                                                      \\nRULE:      ----+----1----+----2----+----3----+----4----+----5----+----6----+----7----+----8----+----9----+----0                     \\n     1901                                                                                                      \\nRULE:      ----+----1----+----2----+----3----+----4----+----5----+----6----+----7----+----8----+----9----+----0                     \\n     2001                                                                                                      \\nRULE:      ----+----1----+----2----+----3----+----4----+----5----+----6----+----7----+----8----+----9----+----0                     \\n     2101                                                                                                      \\nRULE:      ----+----1----+----2----+----3----+----4----+----5----+----6----+----7----+----8----+----9----+----0                     \\n     2201                                                                                                      \\nRULE:      ----+----1----+----2----+----3----+----4----+----5----+----6----+----7----+----8----+----9----+----0                     \\n     2301                                                                                                      \\nRULE:      ----+----1----+----2----+----3----+----4----+----5----+----6----+----7----+----8----+----9----+----0                     \\n     2401                                                                                                      \\nRULE:      ----+----1----+----2----+----3----+----4----+----5----+----6----+----7----+----8----+----9----+----0                     \\n     2501                                                                                                      \\nRULE:      ----+----1----+----2----+----3----+----4----+----5----+----6----+----7----+----8----+----9----+----0                     \\n     2601                                                                                                      \\nRULE:      ----+----1----+----2----+----3----+----4----+----5----+----6----+----7----+----8----+----9----+----0                     \\n     2701                                                                                                      \\nRULE:      ----+----1----+----2----+----3----+----4----+----5----+----6----+----7----+----8----+----9----+----0                     \\n     2801                                                                                                      \\nRULE:      ----+----1----+----2----+----3----+----4----+----5----+----6----+----7----+----8----+----9----+----0                     \\n     2901                                                                                                      \\nRULE:      ----+----1----+----2----+----3----+----4----+----5----+----6----+----7----+----8----+----9----+----0                     \\n     3001                                                                                                      \\nRULE:      ----+----1----+----2----+----3----+----4----+----5----+----6----+----7----+----8----+----9----+----0                     \\n     3101                                                                                                      \\nRULE:      ----+----1----+----2----+----3----+----4----+----5----+----6----+----7----+----8----+----9----+----0                     \\n     3201                                                                                                      \\nRULE:      ----+----1----+----2----+----3----+----4----+----5----+----6----+----7----+----8----+----9----+----0                     \\n     3301                                                                                                      \\nRULE:      ----+----1----+----2----+----3----+----4----+----5----+----6----+----7----+----8----+----9----+----0                     \\n     3401                                                                                                      \\nRULE:      ----+----1----+----2----+----3----+----4----+----5----+----6----+----7----+----8----+----9----+----0                     \\n     3501                                                                                                      \\nRULE:      ----+----1----+----2----+----3----+----4----+----5----+----6----+----7----+----8----+----9----+----0                     \\n     3601                                                                                                      \\nRULE:      ----+----1----+----2----+----3----+----4----+----5----+----6----+----7----+----8----+----9----+----0                     \\n     3701                                                                                                      \\nRULE:      ----+----1----+----2----+----3----+----4----+----5----+----6----+----7----+----8----+----9----+----0                     \\n     3801                                                                                                      \\nRULE:      ----+----1----+----2----+----3----+----4----+----5----+----6----+----7----+----8----+----9----+----0                     \\n     3901                                                                                                      \\nRULE:      ----+----1----+----2----+----3----+----4----+----5----+----6----+----7----+----8----+----9----+----0                     \\n     4001                                                                                                      \\nRULE:      ----+----1----+----2----+----3----+----4----+----5----+----6----+----7----+----8----+----9----+----0                     \\n     4101                                                                                                      \\nRULE:      ----+----1----+----2----+----3----+----4----+----5----+----6----+----7----+----8----+----9----+----0                     \\n     4201                                                                                                      \\nRULE:      ----+----1----+----2----+----3----+----4----+----5----+----6----+----7----+----8----+----9----+----0                     \\n     4301                                                                                                      \\nRULE:      ----+----1----+----2----+----3----+----4----+----5----+----6----+----7----+----8----+----9----+----0                     \\n     4401                                                                                                      \\nRULE:      ----+----1----+----2----+----3----+----4----+----5----+----6----+----7----+----8----+----9----+----0                     \\n     4501                                                                                                      \\nRULE:      ----+----1----+----2----+----3----+----4----+----5----+----6----+----7----+----8----+----9----+----0                     \\n     4601                                                                                                      \\nRULE:      ----+----1----+----2----+----3----+----4----+----5----+----6----+----7----+----8----+----9----+----0                     \\n     4701                                                                                                      \\nRULE:      ----+----1----+----2----+----3----+----4----+----5----+----6----+----7----+----8----+----9----+----0                     \\n     4801                                                                                                      \\nRULE:      ----+----1----+----2----+----3----+----4----+----5----+----6----+----7----+----8----+----9----+----0                     \\n     4901                                                                                                      \\nRULE:      ----+----1----+----2----+----3----+----4----+----5----+----6----+----7----+----8----+----9----+----0                     \\n     5001                                                                                                      \\nRULE:      ----+----1----+----2----+----3----+----4----+----5----+----6----+----7----+----8----+----9----+----0                     \\n     5101                                                                                                      \\nRULE:      ----+----1----+----2----+----3----+----4----+----5----+----6----+----7----+----8----+----9----+----0                     \\n     5201                                                                                                      \\nRULE:      ----+----1----+----2----+----3----+----4----+----5----+----6----+----7----+----8----+----9----+----0                     \\n     5301                                                                                                      \\nRULE:      ----+----1----+----2----+----3----+----4----+----5----+----6----+----7----+----8----+----9----+----0                     \\n     5401                                                                                                      \\nRULE:      ----+----1----+----2----+----3----+----4----+----5----+----6----+----7----+----8----+----9----+----0                     \\n     5501                                                                                                      \\n\\'descricaoItem\\'n=ALMOFADA CARIMBO \\'quantidadeItens\\'n=250 \\'valorEstimadoItem\\'n=1883\\n\\'descricaoComplementarItem\\'n=ALMOFADA CARIMBO, MATERIAL CAIXA PLÁSTICO/METAL, TAMANHO Nº 3, COR AZUL,      COMPRIMENTO 12 CM, LARGUR\\nA 8 CM \\'tratamentoDiferenciado\\'n=None \\'decreto7174\\'n=None \\'margemPreferencial\\'n=None \\'unidadeFornecimento\\'n=UNIDADE\\n\\'situacaoItem\\'n=homologado \\'fornecedorVencedor\\'n=None \\'valorMenorLance\\'n=280 \\'cpfCnpjFornecedor\\'n=09352448000149\\n\\'fornecedorProposta\\'n=None \\'marcaItem\\'n=Maxprint/Gramp line \\'descricaoFabricanteItem\\'n=Maxprint/Gramp line\\n\\'descricaoDetalhadaItem\\'n=ALMOFADA CARIMBO, MATERIAL CAIXA PLÁSTICO/METAL, TAMANHO Nº 3, COR AZUL, COMPRIMENTO 12 CM, LARGURA 8 CM\\n\\'porteEmpresa\\'n=  \\'declaracaoMeEppCoop\\'n=  \\'quantidadeItensProposta\\'n=  \\'valorUnitario\\'n=. \\'valorGlobal\\'n=. \\'desconto\\'n= \\n\\'valorComDesconto\\'n=. \\'dataRegistro\\'n=  \\'dataDeclaracoes\\'n=  \\'declaracaoSuperveniente\\'n=  \\'declaracaoInfantil\\'n= \\n\\'declaracaoIndependente\\'n=  \\'descricaoDeclaracaoCiencia\\'n=  \\'descricaoMotivoCancelamento\\'n=  \\'valorClassificado\\'n= \\n\\'valorNegociado\\'n=  \\'observacoes\\'n=  \\'anexosProposta\\'n=  \\'idItem\\'n=  _ERROR_=1\\n_INFILE_=ALMOFADA CARIMBO\\x03250\\x031883.0\\x03ALMOFADA CARIMBO, MATERIAL CAIXA PLÁSTICO/METAL, TAMANHO Nº 3, COR AZUL,      COMPRIMENTO 12 CM\\n, LARGURA 8 CM\\x03None\\x03None\\x03None\\x03UNIDADE             \\x03homologado\\x03None\\x03280.0\\x0309352448000149\\x03None\\x03Maxprint/Gramp line\\x03Maxprint/Gramp line\\n\\x03ALMOFADA CARIMBO, MATERIAL CAIXA PLÁSTICO/METAL, TAMANHO Nº 3, COR AZUL, COMPRIMENTO 12 CM, LARGURA 8 CM _N_=2153\\n\\x0c6                                                          The SAS System                              18:24 Monday, August 26, 2019\\n\\nNOTE: MVA_DSIO.OPEN_CLOSE| _DISARM|         STOP| _DISARM| 2019-08-26T18:27:52,075-03:00| _DISARM| WorkspaceServer| _DISARM| SAS| \\n      _DISARM| | _DISARM| 1559| _DISARM| 21921792| _DISARM| 11| _DISARM| 11| _DISARM| 22800| _DISARM| 23312| _DISARM| 174.210000| \\n      _DISARM| 164.662287| _DISARM| 1882473907.413676| _DISARM| 1882474072.075963| _DISARM| 81.430000| _DISARM| | _ENDDISARM \\nNOTE: PROCEDURE| _DISARM|         STOP| _DISARM| 2019-08-26T18:27:52,076-03:00| _DISARM| WorkspaceServer| _DISARM| SAS| _DISARM| | \\n      _DISARM| 22749184| _DISARM| 21921792| _DISARM| 11| _DISARM| 11| _DISARM| 22808| _DISARM| 23320| _DISARM| 174.220000| _DISARM| \\n      164.674332| _DISARM| 1882473907.402225| _DISARM| 1882474072.076557| _DISARM| 81.440000| _DISARM| | _ENDDISARM \\nNOTE: DATA statement used (Total process time):\\n      real time           2:44.67\\n      cpu time            2:54.22\\n      \\nNOTE: The SAS System stopped processing this step because of errors.\\nWARNING: The data set LIB_MATR.BASE_PREGAO_PROPOSTA may be incomplete.  When this step was stopped there were 1559 observations and \\n         35 variables.\\n377722     ;;;;\\n\\n\\n377723     \\n\\x0c7                                                          The SAS System                              18:24 Monday, August 26, 2019\\n\\n377724     ;*\\';*\";*/;\\n377725     run;\\n377726     \\n377727     ;*\\';*\";*/;\\n377728     %put E3969440A681A2408885998500000004;\\nE3969440A681A2408885998500000004\\n377729     \\n\\x0c8                                                          The SAS System                              18:24 Monday, August 26, 2019\\n\\n377730     ;*\\';*\";*/;\\n377731     data _null_; e = exist(\\'LIB_MATR.BASE_PREGAO_PROPOSTA\\');\\n377732     v = exist(\\'LIB_MATR.BASE_PREGAO_PROPOSTA\\', \\'VIEW\\');\\n377733      if e or v then e = 1;\\n377734     te=\\'TABLE_EXISTS=\\'; put te e;run;\\n\\nTABLE_EXISTS= 1\\nNOTE: PROCEDURE| _DISARM|         STOP| _DISARM| 2019-08-26T18:27:52,579-03:00| _DISARM| WorkspaceServer| _DISARM| SAS| _DISARM| | \\n      _DISARM| 31924224| _DISARM| 22183936| _DISARM| 11| _DISARM| 11| _DISARM| 0| _DISARM| 23320| _DISARM| 0.000000| _DISARM| \\n      0.006681| _DISARM| 1882474072.572894| _DISARM| 1882474072.579575| _DISARM| 0.000000| _DISARM| | _ENDDISARM \\nNOTE: DATA statement used (Total process time):\\n      real time           0.00 seconds\\n      cpu time            0.00 seconds\\n      \\n\\n377735     \\n377736     \\n377737     ;*\\';*\";*/;\\n377738     %put E3969440A681A2408885998500000005;\\nE3969440A681A2408885998500000005\\n377739     \\n\\x0c9                                                          The SAS System                              18:24 Monday, August 26, 2019\\n\\n377740     ;*\\';*\";*/;\\n377741     data _null_; e = exist(\\'LIB_MATR.BASE_PREGAO_PROPOSTA\\');\\n377742     v = exist(\\'LIB_MATR.BASE_PREGAO_PROPOSTA\\', \\'VIEW\\');\\n377743      if e or v then e = 1;\\n377744     te=\\'TABLE_EXISTS=\\'; put te e;run;\\n\\nTABLE_EXISTS= 1\\nNOTE: PROCEDURE| _DISARM|         STOP| _DISARM| 2019-08-26T18:28:02,923-03:00| _DISARM| WorkspaceServer| _DISARM| SAS| _DISARM| | \\n      _DISARM| 32186368| _DISARM| 22183936| _DISARM| 11| _DISARM| 11| _DISARM| 8| _DISARM| 23328| _DISARM| 0.000000| _DISARM| \\n      0.005330| _DISARM| 1882474082.917882| _DISARM| 1882474082.923212| _DISARM| 0.000000| _DISARM| | _ENDDISARM \\nNOTE: DATA statement used (Total process time):\\n      real time           0.00 seconds\\n      cpu time            0.00 seconds\\n      \\n\\n377745     \\n377746     \\n377747     ;*\\';*\";*/;\\n377748     %put E3969440A681A2408885998500000006;\\nE3969440A681A2408885998500000006\\n377749     \\n\\x0c10                                                         The SAS System                              18:24 Monday, August 26, 2019\\n\\n377750     ;*\\';*\";*/;\\n377751     proc sql;\\n377751   !           create view sasdata2dataframe as select * from LIB_MATR.BASE_PREGAO_PROPOSTA;\\nNOTE: SQL view WORK.SASDATA2DATAFRAME has been defined.\\n377751   !                                                                                        quit;\\nNOTE: PROCEDURE| _DISARM|         STOP| _DISARM| 2019-08-26T18:28:03,044-03:00| _DISARM| WorkspaceServer| _DISARM| SAS| _DISARM| | \\n      _DISARM| 32186368| _DISARM| 22183936| _DISARM| 11| _DISARM| 11| _DISARM| 24| _DISARM| 23352| _DISARM| 0.010000| _DISARM| \\n      0.006497| _DISARM| 1882474083.038148| _DISARM| 1882474083.044645| _DISARM| 0.000000| _DISARM| | _ENDDISARM \\nNOTE: PROCEDURE SQL used (Total process time):\\n      real time           0.00 seconds\\n      cpu time            0.01 seconds\\n      \\n\\n377752     data _null_; file LOG; d = open(\\'sasdata2dataframe\\');\\n377753     length var $256;\\n377754     lrecl = attrn(d, \\'LRECL\\'); nvars = attrn(d, \\'NVARS\\');\\n377755     lr=\\'LRECL=\\'; vn=\\'VARNUMS=\\'; vl=\\'VARLIST=\\'; vt=\\'VARTYPE=\\';\\n377756     put lr lrecl; put vn nvars; put vl;\\n377757     do i = 1 to nvars; var = compress(varname(d, i), \\'00\\'x); put var; end;\\n377758     put vt;\\n377759     do i = 1 to nvars; var = vartype(d, i); put var; end;\\n377760     run;\\n\\nLRECL= 6989\\nVARNUMS= 35\\nVARLIST=\\ndescricaoItem\\nquantidadeItens\\nvalorEstimadoItem\\ndescricaoComplementarItem\\ntratamentoDiferenciado\\ndecreto7174\\nmargemPreferencial\\nunidadeFornecimento\\nsituacaoItem\\nfornecedorVencedor\\nvalorMenorLance\\ncpfCnpjFornecedor\\nfornecedorProposta\\nmarcaItem\\ndescricaoFabricanteItem\\ndescricaoDetalhadaItem\\nporteEmpresa\\ndeclaracaoMeEppCoop\\nquantidadeItensProposta\\nvalorUnitario\\nvalorGlobal\\ndesconto\\nvalorComDesconto\\ndataRegistro\\ndataDeclaracoes\\ndeclaracaoSuperveniente\\ndeclaracaoInfantil\\ndeclaracaoIndependente\\ndescricaoDeclaracaoCiencia\\ndescricaoMotivoCancelamento\\nvalorClassificado\\nvalorNegociado\\nobservacoes\\nanexosProposta\\nidItem\\nVARTYPE=\\nC\\nC\\nN\\nC\\nC\\nC\\nC\\nC\\nC\\nC\\nN\\nC\\nC\\nC\\nC\\nC\\nC\\nC\\nC\\nN\\nN\\nC\\nN\\nC\\nC\\nC\\nC\\nC\\nC\\nC\\nC\\nC\\nC\\nC\\nC\\nNOTE: MVA_DSIO.OPEN_CLOSE| _DISARM|         STOP| _DISARM| 2019-08-26T18:28:03,062-03:00| _DISARM| WorkspaceServer| _DISARM| SAS| \\n      _DISARM| | _DISARM| 1559| _DISARM| 22446080| _DISARM| 11| _DISARM| 11| _DISARM| 0| _DISARM| 23640| _DISARM| 0.010000| \\n      _DISARM| 0.006483| _DISARM| 1882474083.056481| _DISARM| 1882474083.062964| _DISARM| 0.010000| _DISARM| | _ENDDISARM \\nNOTE: MVA_DSIO.OPEN_CLOSE| _DISARM|         STOP| _DISARM| 2019-08-26T18:28:03,063-03:00| _DISARM| WorkspaceServer| _DISARM| SAS| \\n      _DISARM| | _DISARM| -1| _DISARM| 22446080| _DISARM| 11| _DISARM| 11| _DISARM| 0| _DISARM| 23640| _DISARM| 0.000000| _DISARM| \\n      0.003386| _DISARM| 1882474083.060142| _DISARM| 1882474083.063528| _DISARM| 0.000000| _DISARM| | _ENDDISARM \\nNOTE: PROCEDURE| _DISARM|         STOP| _DISARM| 2019-08-26T18:28:03,063-03:00| _DISARM| WorkspaceServer| _DISARM| SAS| _DISARM| | \\n      _DISARM| 32186368| _DISARM| 22446080| _DISARM| 11| _DISARM| 11| _DISARM| 288| _DISARM| 23640| _DISARM| 0.010000| _DISARM| \\n      0.017068| _DISARM| 1882474083.046895| _DISARM| 1882474083.063963| _DISARM| 0.010000| _DISARM| | _ENDDISARM \\nNOTE: DATA statement used (Total process time):\\n      real time           0.01 seconds\\n      cpu time            0.01 seconds\\n      \\n\\n377761     \\n377762     ;*\\';*\";*/;\\n377763     %put E3969440A681A2408885998500000008;\\nE3969440A681A2408885998500000008\\n377764     \\n\\x0c11                                                         The SAS System                              18:24 Monday, August 26, 2019\\n\\n377765     ;*\\';*\";*/;\\n377766     data work._n_u_l_l_;output;run;\\n\\nNOTE: The data set WORK._N_U_L_L_ has 1 observations and 0 variables.\\nNOTE: MVA_DSIO.OPEN_CLOSE| _DISARM|         STOP| _DISARM| 2019-08-26T18:28:03,140-03:00| _DISARM| WorkspaceServer| _DISARM| SAS| \\n      _DISARM| | _DISARM| 1| _DISARM| 22446080| _DISARM| 11| _DISARM| 11| _DISARM| 136| _DISARM| 23776| _DISARM| 0.000000| _DISARM| \\n      0.004213| _DISARM| 1882474083.135986| _DISARM| 1882474083.140199| _DISARM| 0.000000| _DISARM| | _ENDDISARM \\nNOTE: PROCEDURE| _DISARM|         STOP| _DISARM| 2019-08-26T18:28:03,140-03:00| _DISARM| WorkspaceServer| _DISARM| SAS| _DISARM| | \\n      _DISARM| 32448512| _DISARM| 22446080| _DISARM| 11| _DISARM| 11| _DISARM| 136| _DISARM| 23776| _DISARM| 0.000000| _DISARM| \\n      0.007214| _DISARM| 1882474083.133426| _DISARM| 1882474083.140640| _DISARM| 0.000000| _DISARM| | _ENDDISARM \\nNOTE: DATA statement used (Total process time):\\n      real time           0.00 seconds\\n      cpu time            0.00 seconds\\n      \\n\\n377767     data _null_; set LIB_MATR.BASE_PREGAO_PROPOSTA(obs=0 ) work._n_u_l_l_;put \\'FMT_CATS=\\';\\n377768     _tom = vformatn(\\'descricaoItem\\'n);put _tom;\\n377769     _tom = vformatn(\\'quantidadeItens\\'n);put _tom;\\n377770     _tom = vformatn(\\'valorEstimadoItem\\'n);put _tom;\\n377771     _tom = vformatn(\\'descricaoComplementarItem\\'n);put _tom;\\n377772     _tom = vformatn(\\'tratamentoDiferenciado\\'n);put _tom;\\n377773     _tom = vformatn(\\'decreto7174\\'n);put _tom;\\n377774     _tom = vformatn(\\'margemPreferencial\\'n);put _tom;\\n377775     _tom = vformatn(\\'unidadeFornecimento\\'n);put _tom;\\n377776     _tom = vformatn(\\'situacaoItem\\'n);put _tom;\\n377777     _tom = vformatn(\\'fornecedorVencedor\\'n);put _tom;\\n377778     _tom = vformatn(\\'valorMenorLance\\'n);put _tom;\\n377779     _tom = vformatn(\\'cpfCnpjFornecedor\\'n);put _tom;\\n377780     _tom = vformatn(\\'fornecedorProposta\\'n);put _tom;\\n377781     _tom = vformatn(\\'marcaItem\\'n);put _tom;\\n377782     _tom = vformatn(\\'descricaoFabricanteItem\\'n);put _tom;\\n377783     _tom = vformatn(\\'descricaoDetalhadaItem\\'n);put _tom;\\n377784     _tom = vformatn(\\'porteEmpresa\\'n);put _tom;\\n377785     _tom = vformatn(\\'declaracaoMeEppCoop\\'n);put _tom;\\n377786     _tom = vformatn(\\'quantidadeItensProposta\\'n);put _tom;\\n377787     _tom = vformatn(\\'valorUnitario\\'n);put _tom;\\n377788     _tom = vformatn(\\'valorGlobal\\'n);put _tom;\\n377789     _tom = vformatn(\\'desconto\\'n);put _tom;\\n377790     _tom = vformatn(\\'valorComDesconto\\'n);put _tom;\\n377791     _tom = vformatn(\\'dataRegistro\\'n);put _tom;\\n377792     _tom = vformatn(\\'dataDeclaracoes\\'n);put _tom;\\n377793     _tom = vformatn(\\'declaracaoSuperveniente\\'n);put _tom;\\n377794     _tom = vformatn(\\'declaracaoInfantil\\'n);put _tom;\\n377795     _tom = vformatn(\\'declaracaoIndependente\\'n);put _tom;\\n377796     _tom = vformatn(\\'descricaoDeclaracaoCiencia\\'n);put _tom;\\n377797     _tom = vformatn(\\'descricaoMotivoCancelamento\\'n);put _tom;\\n377798     _tom = vformatn(\\'valorClassificado\\'n);put _tom;\\n377799     _tom = vformatn(\\'valorNegociado\\'n);put _tom;\\n377800     _tom = vformatn(\\'observacoes\\'n);put _tom;\\n377801     _tom = vformatn(\\'anexosProposta\\'n);put _tom;\\n377802     _tom = vformatn(\\'idItem\\'n);put _tom;\\n377803     run;\\n\\nFMT_CATS=\\n$\\n$\\nBEST\\n$\\n$\\n$\\n$\\n$\\n$\\n$\\nBEST\\n$\\n$\\n$\\n$\\n$\\n$\\n$\\n$\\nBEST\\nBEST\\n$\\nBEST\\n$\\n$\\n$\\n$\\n$\\n$\\n$\\n$\\n$\\n$\\n$\\n$\\nNOTE: There were 0 observations read from the data set LIB_MATR.BASE_PREGAO_PROPOSTA.\\nNOTE: MVA_DSIO.OPEN_CLOSE| _DISARM|         STOP| _DISARM| 2019-08-26T18:28:03,153-03:00| _DISARM| WorkspaceServer| _DISARM| SAS| \\n      _DISARM| | _DISARM| 1559| _DISARM| 22970368| _DISARM| 11| _DISARM| 11| _DISARM| 0| _DISARM| 23808| _DISARM| 0.000000| \\n      _DISARM| 0.006006| _DISARM| 1882474083.147507| _DISARM| 1882474083.153513| _DISARM| 0.000000| _DISARM| | _ENDDISARM \\nNOTE: There were 1 observations read from the data set WORK._N_U_L_L_.\\nNOTE: MVA_DSIO.OPEN_CLOSE| _DISARM|         STOP| _DISARM| 2019-08-26T18:28:03,154-03:00| _DISARM| WorkspaceServer| _DISARM| SAS| \\n      _DISARM| | _DISARM| 1| _DISARM| 22970368| _DISARM| 11| _DISARM| 11| _DISARM| 8| _DISARM| 23816| _DISARM| 0.010000| _DISARM| \\n      0.005574| _DISARM| 1882474083.148519| _DISARM| 1882474083.154093| _DISARM| 0.010000| _DISARM| | _ENDDISARM \\nNOTE: PROCEDURE| _DISARM|         STOP| _DISARM| 2019-08-26T18:28:03,154-03:00| _DISARM| WorkspaceServer| _DISARM| SAS| _DISARM| | \\n      _DISARM| 32448512| _DISARM| 22970368| _DISARM| 11| _DISARM| 11| _DISARM| 40| _DISARM| 23816| _DISARM| 0.010000| _DISARM| \\n      0.012096| _DISARM| 1882474083.142328| _DISARM| 1882474083.154424| _DISARM| 0.010000| _DISARM| | _ENDDISARM \\nNOTE: DATA statement used (Total process time):\\n      real time           0.01 seconds\\n      cpu time            0.01 seconds\\n      \\n\\n377804     proc delete data=work._n_u_l_l_;run;\\n\\nNOTE: Deleting WORK._N_U_L_L_ (memtype=DATA).\\nNOTE: PROCEDURE| _DISARM|         STOP| _DISARM| 2019-08-26T18:28:03,159-03:00| _DISARM| WorkspaceServer| _DISARM| SAS| _DISARM| | \\n      _DISARM| 32448512| _DISARM| 22970368| _DISARM| 11| _DISARM| 11| _DISARM| 0| _DISARM| 23816| _DISARM| 0.000000| _DISARM| \\n      0.002230| _DISARM| 1882474083.157121| _DISARM| 1882474083.159351| _DISARM| 0.000000| _DISARM| | _ENDDISARM \\nNOTE: PROCEDURE DELETE used (Total process time):\\n      real time           0.00 seconds\\n      cpu time            0.00 seconds\\n      \\n\\n377805     \\n377806     ;*\\';*\";*/;\\n377807     %put E3969440A681A2408885998500000009;\\nE3969440A681A2408885998500000009\\n377808     \\n\\x0c14                                                         The SAS System                              18:24 Monday, August 26, 2019\\n\\n377816     ;*\\';*\";*/;\\n377817     \\n377818             data _null_; retain libref; retain cobs 1;\\n377819                set sashelp.vlibnam end=last;\\n377820                if cobs EQ 1 then\\n377821                   put \"LIBREFSSTART\";\\n377822                cobs = 2;\\n377823                if libref NE libname then\\n377824                   put \"LIBREF=\" libname;\\n377825                libref = libname;\\n377826                if last then\\n377827                   put \"LIBREFSEND\";\\n377828             run;\\n\\nLIBREFSSTART\\nLIBREF=WORK\\nLIBREF=SASDATA\\nLIBREF=LIB_MATR\\nLIBREF=RFB\\nLIBREF=LIB_NIE\\nLIBREF=ECONTAS\\nLIBREF=SEGECEX\\nLIBREF=PESSOAS\\nLIBREF=SANCAO\\nLIBREF=RAIS\\nLIBREF=SISEDITA\\nLIBREF=STPSAMP\\nLIBREF=FCMENRCH\\nLIBREF=FCM_SLIB\\nLIBREF=FCMPREP\\nLIBREF=FCMATEMP\\nLIBREF=SASHELP\\nLIBREF=MAPS\\nLIBREF=MAPSSAS\\nLIBREF=MAPSGFK\\nLIBREF=SASUSER\\nLIBREFSEND\\nNOTE: There were 103 observations read from the data set SASHELP.VLIBNAM.\\nNOTE: MVA_DSIO.OPEN_CLOSE| _DISARM|         STOP| _DISARM| 2019-08-26T18:31:44,831-03:00| _DISARM| WorkspaceServer| _DISARM| SAS| \\n      _DISARM| | _DISARM| -1| _DISARM| 23232512| _DISARM| 11| _DISARM| 11| _DISARM| 0| _DISARM| 48832| _DISARM| 0.000000| _DISARM| \\n      0.012094| _DISARM| 1882474304.819165| _DISARM| 1882474304.831259| _DISARM| 0.000000| _DISARM| | _ENDDISARM \\nNOTE: PROCEDURE| _DISARM|         STOP| _DISARM| 2019-08-26T18:31:44,831-03:00| _DISARM| WorkspaceServer| _DISARM| SAS| _DISARM| | \\n      _DISARM| 35622912| _DISARM| 23232512| _DISARM| 11| _DISARM| 11| _DISARM| 8| _DISARM| 48832| _DISARM| 0.010000| _DISARM| \\n      0.017220| _DISARM| 1882474304.814560| _DISARM| 1882474304.831780| _DISARM| 0.010000| _DISARM| | _ENDDISARM \\nNOTE: DATA statement used (Total process time):\\n      real time           0.01 seconds\\n      cpu time            0.01 seconds\\n      \\n\\n377829     \\n377830     \\n377831     ;*\\';*\";*/;\\n377832     %put E3969440A681A2408885998500000010;\\nE3969440A681A2408885998500000010\\n377833     \\n\\x0c15                                                         The SAS System                              18:24 Monday, August 26, 2019\\n\\n377834     data LIB_MATR.BASE_PREGAO_PROPOSTA;\\n377835     length  \\'descricaoItem\\'n $120 \\'quantidadeItens\\'n $14 \\'valorEstimadoItem\\'n 8 \\'descricaoComplementarItem\\'n $1248\\n377835   ! \\'tratamentoDiferenciado\\'n $13 \\'decreto7174\\'n $15 \\'margemPreferencial\\'n $4 \\'unidadeFornecimento\\'n $20 \\'situacaoItem\\'n $24\\n377835   ! \\'fornecedorVencedor\\'n $16 \\'valorMenorLance\\'n 8 \\'cpfCnpjFornecedor\\'n $14 \\'fornecedorProposta\\'n $4 \\'marcaItem\\'n $21\\n377835   ! \\'descricaoFabricanteItem\\'n $51 \\'descricaoDetalhadaItem\\'n $5051 \\'porteEmpresa\\'n $25 \\'declaracaoMeEppCoop\\'n $4\\n377835   ! \\'quantidadeItensProposta\\'n $99 \\'valorUnitario\\'n 8 \\'valorGlobal\\'n 8 \\'desconto\\'n $9 \\'valorComDesconto\\'n 8 \\'dataRegistro\\'n\\n377835   ! $19 \\'dataDeclaracoes\\'n $19 \\'declaracaoSuperveniente\\'n $4 \\'declaracaoInfantil\\'n $4 \\'declaracaoIndependente\\'n $4\\n377835   ! \\'descricaoDeclaracaoCiencia\\'n $4 \\'descricaoMotivoCancelamento\\'n $4 \\'valorClassificado\\'n $4 \\'valorNegociado\\'n $4\\n377835   ! \\'observacoes\\'n $4 \\'anexosProposta\\'n $103 \\'idItem\\'n $8;\\n377836     infile datalines delimiter=\\'03\\'x DSD STOPOVER;\\n377837     input @;\\n377838     if _infile_ = \\'\\' then delete;\\n377839     input \\'descricaoItem\\'n \\'quantidadeItens\\'n \\'valorEstimadoItem\\'n \\'descricaoComplementarItem\\'n \\'tratamentoDiferenciado\\'n\\n377839   ! \\'decreto7174\\'n \\'margemPreferencial\\'n \\'unidadeFornecimento\\'n \\'situacaoItem\\'n \\'fornecedorVencedor\\'n \\'valorMenorLance\\'n\\n377839   ! \\'cpfCnpjFornecedor\\'n \\'fornecedorProposta\\'n \\'marcaItem\\'n \\'descricaoFabricanteItem\\'n \\'descricaoDetalhadaItem\\'n\\n377839   ! \\'porteEmpresa\\'n \\'declaracaoMeEppCoop\\'n \\'quantidadeItensProposta\\'n \\'valorUnitario\\'n \\'valorGlobal\\'n \\'desconto\\'n\\n377839   ! \\'valorComDesconto\\'n \\'dataRegistro\\'n \\'dataDeclaracoes\\'n \\'declaracaoSuperveniente\\'n \\'declaracaoInfantil\\'n\\n377839   ! \\'declaracaoIndependente\\'n \\'descricaoDeclaracaoCiencia\\'n \\'descricaoMotivoCancelamento\\'n \\'valorClassificado\\'n\\n377839   ! \\'valorNegociado\\'n \\'observacoes\\'n \\'anexosProposta\\'n \\'idItem\\'n ;\\n377840     datalines4;\\n\\n\\x0c16                                                         The SAS System                              18:24 Monday, August 26, 2019\\n\\nERROR: INPUT statement exceeded record length. INFILE CARDS OPTION STOPOVER specified.\\nRULE:      ----+----1----+----2----+----3----+----4----+----5----+----6----+----7----+----8----+----9----+----0                     \\n\\n379993     ALMOFADA CARIMBO.250.1883.0.ALMOFADA CARIMBO, MATERIAL CAIXA PLÁSTICO/METAL, TAMANHO Nº 3, COR AZUL,\\n    ZONE   444444442445444403330333323044444444244544442244545444244454254C5544424454422544444424B2322445245542\\n    NUMR   1CDF614103129D2F325031883E031CDF614103129D2FC0D145291C03198100C13493FFD541CC041D1E8F0EA03C03F201A5CC\\nRULE:      ----+----1----+----2----+----3----+----4----+----5----+----6----+----7----+----8----+----9----+----0                     \\n\\n      101        COMPRIMENTO 12 CM, LARGURA 8 CM.None.None.None.UNIDADE             .homologado.None.280.0.0935\\n    ZONE   2222224445544445423324422445455423244046660466604666054444442222222222222066666666660466603332303333\\n    NUMR   0000003FD029D5E4F01203DC0C1275210803D3EFE53EFE53EFE535E94145000000000000038FDFCF714F3EFE53280E030935\\nRULE:      ----+----1----+----2----+----3----+----4----+----5----+----6----+----7----+----8----+----9----+----0                     \\n\\n      201  2448000149.None.Maxprint/Gramp line.Maxprint/Gramp line.ALMOFADA CARIMBO, MATERIAL CAIXA PLÁSTICO/ME\\n    ZONE   3333333333046660467776672476672666604677766724766726666044444444244544442244545444244454254C55444244\\n    NUMR   24480001493EFE53D18029E4F721D00C9E53D18029E4F721D00C9E531CDF614103129D2FC0D145291C03198100C13493FFD5\\nRULE:      ----+----1----+----2----+----3----+----4----+----5----+----6----+----7----+----8----+----9----+----0                     \\n      301  TAL, TAMANHO Nº 3, COR AZUL, COMPRIMENTO 12 CM, LARGURA 8 CM                                        \\nRULE:      ----+----1----+----2----+----3----+----4----+----5----+----6----+----7----+----8----+----9----+----0                     \\n      401                                                                                                      \\nRULE:      ----+----1----+----2----+----3----+----4----+----5----+----6----+----7----+----8----+----9----+----0                     \\n      501                                                                                                      \\nRULE:      ----+----1----+----2----+----3----+----4----+----5----+----6----+----7----+----8----+----9----+----0                     \\n      601                                                                                                      \\nRULE:      ----+----1----+----2----+----3----+----4----+----5----+----6----+----7----+----8----+----9----+----0                     \\n      701                                                                                                      \\nRULE:      ----+----1----+----2----+----3----+----4----+----5----+----6----+----7----+----8----+----9----+----0                     \\n      801                                                                                                      \\nRULE:      ----+----1----+----2----+----3----+----4----+----5----+----6----+----7----+----8----+----9----+----0                     \\n      901                                                                                                      \\nRULE:      ----+----1----+----2----+----3----+----4----+----5----+----6----+----7----+----8----+----9----+----0                     \\n     1001                                                                                                      \\nRULE:      ----+----1----+----2----+----3----+----4----+----5----+----6----+----7----+----8----+----9----+----0                     \\n     1101                                                                                                      \\nRULE:      ----+----1----+----2----+----3----+----4----+----5----+----6----+----7----+----8----+----9----+----0                     \\n     1201                                                                                                      \\nRULE:      ----+----1----+----2----+----3----+----4----+----5----+----6----+----7----+----8----+----9----+----0                     \\n     1301                                                                                                      \\nRULE:      ----+----1----+----2----+----3----+----4----+----5----+----6----+----7----+----8----+----9----+----0                     \\n     1401                                                                                                      \\nRULE:      ----+----1----+----2----+----3----+----4----+----5----+----6----+----7----+----8----+----9----+----0                     \\n     1501                                                                                                      \\nRULE:      ----+----1----+----2----+----3----+----4----+----5----+----6----+----7----+----8----+----9----+----0                     \\n     1601                                                                                                      \\nRULE:      ----+----1----+----2----+----3----+----4----+----5----+----6----+----7----+----8----+----9----+----0                     \\n     1701                                                                                                      \\nRULE:      ----+----1----+----2----+----3----+----4----+----5----+----6----+----7----+----8----+----9----+----0                     \\n     1801                                                                                                      \\nRULE:      ----+----1----+----2----+----3----+----4----+----5----+----6----+----7----+----8----+----9----+----0                     \\n     1901                                                                                                      \\nRULE:      ----+----1----+----2----+----3----+----4----+----5----+----6----+----7----+----8----+----9----+----0                     \\n     2001                                                                                                      \\nRULE:      ----+----1----+----2----+----3----+----4----+----5----+----6----+----7----+----8----+----9----+----0                     \\n     2101                                                                                                      \\nRULE:      ----+----1----+----2----+----3----+----4----+----5----+----6----+----7----+----8----+----9----+----0                     \\n     2201                                                                                                      \\nRULE:      ----+----1----+----2----+----3----+----4----+----5----+----6----+----7----+----8----+----9----+----0                     \\n     2301                                                                                                      \\nRULE:      ----+----1----+----2----+----3----+----4----+----5----+----6----+----7----+----8----+----9----+----0                     \\n     2401                                                                                                      \\nRULE:      ----+----1----+----2----+----3----+----4----+----5----+----6----+----7----+----8----+----9----+----0                     \\n     2501                                                                                                      \\nRULE:      ----+----1----+----2----+----3----+----4----+----5----+----6----+----7----+----8----+----9----+----0                     \\n     2601                                                                                                      \\nRULE:      ----+----1----+----2----+----3----+----4----+----5----+----6----+----7----+----8----+----9----+----0                     \\n     2701                                                                                                      \\nRULE:      ----+----1----+----2----+----3----+----4----+----5----+----6----+----7----+----8----+----9----+----0                     \\n     2801                                                                                                      \\nRULE:      ----+----1----+----2----+----3----+----4----+----5----+----6----+----7----+----8----+----9----+----0                     \\n     2901                                                                                                      \\nRULE:      ----+----1----+----2----+----3----+----4----+----5----+----6----+----7----+----8----+----9----+----0                     \\n     3001                                                                                                      \\nRULE:      ----+----1----+----2----+----3----+----4----+----5----+----6----+----7----+----8----+----9----+----0                     \\n     3101                                                                                                      \\nRULE:      ----+----1----+----2----+----3----+----4----+----5----+----6----+----7----+----8----+----9----+----0                     \\n     3201                                                                                                      \\nRULE:      ----+----1----+----2----+----3----+----4----+----5----+----6----+----7----+----8----+----9----+----0                     \\n     3301                                                                                                      \\nRULE:      ----+----1----+----2----+----3----+----4----+----5----+----6----+----7----+----8----+----9----+----0                     \\n     3401                                                                                                      \\nRULE:      ----+----1----+----2----+----3----+----4----+----5----+----6----+----7----+----8----+----9----+----0                     \\n     3501                                                                                                      \\nRULE:      ----+----1----+----2----+----3----+----4----+----5----+----6----+----7----+----8----+----9----+----0                     \\n     3601                                                                                                      \\nRULE:      ----+----1----+----2----+----3----+----4----+----5----+----6----+----7----+----8----+----9----+----0                     \\n     3701                                                                                                      \\nRULE:      ----+----1----+----2----+----3----+----4----+----5----+----6----+----7----+----8----+----9----+----0                     \\n     3801                                                                                                      \\nRULE:      ----+----1----+----2----+----3----+----4----+----5----+----6----+----7----+----8----+----9----+----0                     \\n     3901                                                                                                      \\nRULE:      ----+----1----+----2----+----3----+----4----+----5----+----6----+----7----+----8----+----9----+----0                     \\n     4001                                                                                                      \\nRULE:      ----+----1----+----2----+----3----+----4----+----5----+----6----+----7----+----8----+----9----+----0                     \\n     4101                                                                                                      \\nRULE:      ----+----1----+----2----+----3----+----4----+----5----+----6----+----7----+----8----+----9----+----0                     \\n     4201                                                                                                      \\nRULE:      ----+----1----+----2----+----3----+----4----+----5----+----6----+----7----+----8----+----9----+----0                     \\n     4301                                                                                                      \\nRULE:      ----+----1----+----2----+----3----+----4----+----5----+----6----+----7----+----8----+----9----+----0                     \\n     4401                                                                                                      \\nRULE:      ----+----1----+----2----+----3----+----4----+----5----+----6----+----7----+----8----+----9----+----0                     \\n     4501                                                                                                      \\nRULE:      ----+----1----+----2----+----3----+----4----+----5----+----6----+----7----+----8----+----9----+----0                     \\n     4601                                                                                                      \\nRULE:      ----+----1----+----2----+----3----+----4----+----5----+----6----+----7----+----8----+----9----+----0                     \\n     4701                                                                                                      \\nRULE:      ----+----1----+----2----+----3----+----4----+----5----+----6----+----7----+----8----+----9----+----0                     \\n     4801                                                                                                      \\nRULE:      ----+----1----+----2----+----3----+----4----+----5----+----6----+----7----+----8----+----9----+----0                     \\n     4901                                                                                                      \\nRULE:      ----+----1----+----2----+----3----+----4----+----5----+----6----+----7----+----8----+----9----+----0                     \\n     5001                                                                                                      \\nRULE:      ----+----1----+----2----+----3----+----4----+----5----+----6----+----7----+----8----+----9----+----0                     \\n     5101                                                                                                      \\nRULE:      ----+----1----+----2----+----3----+----4----+----5----+----6----+----7----+----8----+----9----+----0                     \\n     5201                                                                                                      \\nRULE:      ----+----1----+----2----+----3----+----4----+----5----+----6----+----7----+----8----+----9----+----0                     \\n     5301                                                                                                      \\nRULE:      ----+----1----+----2----+----3----+----4----+----5----+----6----+----7----+----8----+----9----+----0                     \\n     5401                                                                                                      \\nRULE:      ----+----1----+----2----+----3----+----4----+----5----+----6----+----7----+----8----+----9----+----0                     \\n     5501                                                                                                      \\n\\'descricaoItem\\'n=ALMOFADA CARIMBO \\'quantidadeItens\\'n=250 \\'valorEstimadoItem\\'n=1883\\n\\'descricaoComplementarItem\\'n=ALMOFADA CARIMBO, MATERIAL CAIXA PLÁSTICO/METAL, TAMANHO Nº 3, COR AZUL,      COMPRIMENTO 12 CM, LARGUR\\nA 8 CM \\'tratamentoDiferenciado\\'n=None \\'decreto7174\\'n=None \\'margemPreferencial\\'n=None \\'unidadeFornecimento\\'n=UNIDADE\\n\\'situacaoItem\\'n=homologado \\'fornecedorVencedor\\'n=None \\'valorMenorLance\\'n=280 \\'cpfCnpjFornecedor\\'n=09352448000149\\n\\'fornecedorProposta\\'n=None \\'marcaItem\\'n=Maxprint/Gramp line \\'descricaoFabricanteItem\\'n=Maxprint/Gramp line\\n\\'descricaoDetalhadaItem\\'n=ALMOFADA CARIMBO, MATERIAL CAIXA PLÁSTICO/METAL, TAMANHO Nº 3, COR AZUL, COMPRIMENTO 12 CM, LARGURA 8 CM\\n\\'porteEmpresa\\'n=  \\'declaracaoMeEppCoop\\'n=  \\'quantidadeItensProposta\\'n=  \\'valorUnitario\\'n=. \\'valorGlobal\\'n=. \\'desconto\\'n= \\n\\'valorComDesconto\\'n=. \\'dataRegistro\\'n=  \\'dataDeclaracoes\\'n=  \\'declaracaoSuperveniente\\'n=  \\'declaracaoInfantil\\'n= \\n\\'declaracaoIndependente\\'n=  \\'descricaoDeclaracaoCiencia\\'n=  \\'descricaoMotivoCancelamento\\'n=  \\'valorClassificado\\'n= \\n\\'valorNegociado\\'n=  \\'observacoes\\'n=  \\'anexosProposta\\'n=  \\'idItem\\'n=  _ERROR_=1\\n_INFILE_=ALMOFADA CARIMBO\\x03250\\x031883.0\\x03ALMOFADA CARIMBO, MATERIAL CAIXA PLÁSTICO/METAL, TAMANHO Nº 3, COR AZUL,      COMPRIMENTO 12 CM\\n, LARGURA 8 CM\\x03None\\x03None\\x03None\\x03UNIDADE             \\x03homologado\\x03None\\x03280.0\\x0309352448000149\\x03None\\x03Maxprint/Gramp line\\x03Maxprint/Gramp line\\n\\x03ALMOFADA CARIMBO, MATERIAL CAIXA PLÁSTICO/METAL, TAMANHO Nº 3, COR AZUL, COMPRIMENTO 12 CM, LARGURA 8 CM _N_=2153\\n\\x0c17                                                         The SAS System                              18:24 Monday, August 26, 2019\\n\\nNOTE: MVA_DSIO.OPEN_CLOSE| _DISARM|         STOP| _DISARM| 2019-08-26T18:34:42,414-03:00| _DISARM| WorkspaceServer| _DISARM| SAS| \\n      _DISARM| | _DISARM| 1559| _DISARM| 31883264| _DISARM| 11| _DISARM| 11| _DISARM| 22032| _DISARM| 70864| _DISARM| 181.280000| \\n      _DISARM| 171.166863| _DISARM| 1882474311.247671| _DISARM| 1882474482.414534| _DISARM| 82.340000| _DISARM| | _ENDDISARM \\nNOTE: PROCEDURE| _DISARM|         STOP| _DISARM| 2019-08-26T18:34:42,414-03:00| _DISARM| WorkspaceServer| _DISARM| SAS| _DISARM| | \\n      _DISARM| 35622912| _DISARM| 31883264| _DISARM| 11| _DISARM| 11| _DISARM| 22040| _DISARM| 70872| _DISARM| 181.280000| _DISARM| \\n      171.184631| _DISARM| 1882474311.230296| _DISARM| 1882474482.414927| _DISARM| 82.340000| _DISARM| | _ENDDISARM \\nNOTE: DATA statement used (Total process time):\\n      real time           2:51.18\\n      cpu time            3:01.28\\n      \\nNOTE: The SAS System stopped processing this step because of errors.\\nWARNING: The data set LIB_MATR.BASE_PREGAO_PROPOSTA may be incomplete.  When this step was stopped there were 1559 observations and \\n         35 variables.\\nWARNING: Data set LIB_MATR.BASE_PREGAO_PROPOSTA was not replaced because this step was stopped.\\n755517     ;;;;\\n\\n\\n755518     \\n\\x0c18                                                         The SAS System                              18:24 Monday, August 26, 2019\\n\\n755519     ;*\\';*\";*/;\\n755520     run;\\n755521     \\n755522     ;*\\';*\";*/;\\n755523     %put E3969440A681A2408885998500000011;\\nE3969440A681A2408885998500000011\\n755524     \\n\\x0c19                                                         The SAS System                              18:24 Monday, August 26, 2019\\n\\n755525     ;*\\';*\";*/;\\n755526     data _null_; e = exist(\\'LIB_MATR.BASE_PREGAO_PROPOSTA\\');\\n755527     v = exist(\\'LIB_MATR.BASE_PREGAO_PROPOSTA\\', \\'VIEW\\');\\n755528      if e or v then e = 1;\\n755529     te=\\'TABLE_EXISTS=\\'; put te e;run;\\n\\nTABLE_EXISTS= 1\\nNOTE: PROCEDURE| _DISARM|         STOP| _DISARM| 2019-08-26T18:34:42,903-03:00| _DISARM| WorkspaceServer| _DISARM| SAS| _DISARM| | \\n      _DISARM| 41885696| _DISARM| 31883264| _DISARM| 11| _DISARM| 11| _DISARM| 0| _DISARM| 70880| _DISARM| 0.000000| _DISARM| \\n      0.004445| _DISARM| 1882474482.898667| _DISARM| 1882474482.903112| _DISARM| 0.000000| _DISARM| | _ENDDISARM \\nNOTE: DATA statement used (Total process time):\\n      real time           0.00 seconds\\n      cpu time            0.00 seconds\\n      \\n\\n755530     \\n755531     \\n755532     ;*\\';*\";*/;\\n755533     %put E3969440A681A2408885998500000012;\\nE3969440A681A2408885998500000012\\n755534     \\n\\x0c20                                                         The SAS System                              18:24 Monday, August 26, 2019\\n\\n755535     ;*\\';*\";*/;\\n755536     data _null_; e = exist(\\'LIB_MATR.BASE_PREGAO_PROPOSTA\\');\\n755537     v = exist(\\'LIB_MATR.BASE_PREGAO_PROPOSTA\\', \\'VIEW\\');\\n755538      if e or v then e = 1;\\n755539     te=\\'TABLE_EXISTS=\\'; put te e;run;\\n\\nTABLE_EXISTS= 1\\nNOTE: PROCEDURE| _DISARM|         STOP| _DISARM| 2019-08-26T18:34:50,533-03:00| _DISARM| WorkspaceServer| _DISARM| SAS| _DISARM| | \\n      _DISARM| 41885696| _DISARM| 31883264| _DISARM| 11| _DISARM| 11| _DISARM| 0| _DISARM| 70880| _DISARM| 0.010000| _DISARM| \\n      0.005092| _DISARM| 1882474490.528694| _DISARM| 1882474490.533786| _DISARM| 0.010000| _DISARM| | _ENDDISARM \\nNOTE: DATA statement used (Total process time):\\n      real time           0.00 seconds\\n      cpu time            0.00 seconds\\n      \\n\\n755540     \\n755541     \\n755542     ;*\\';*\";*/;\\n755543     %put E3969440A681A2408885998500000013;\\nE3969440A681A2408885998500000013\\n755544     \\n\\x0c21                                                         The SAS System                              18:24 Monday, August 26, 2019\\n\\n755545     ;*\\';*\";*/;\\n755546     proc sql;\\n755546   !           create view sasdata2dataframe as select * from LIB_MATR.BASE_PREGAO_PROPOSTA;\\nNOTE: SQL view WORK.SASDATA2DATAFRAME has been defined.\\n755546   !                                                                                        quit;\\nNOTE: PROCEDURE| _DISARM|         STOP| _DISARM| 2019-08-26T18:34:50,636-03:00| _DISARM| WorkspaceServer| _DISARM| SAS| _DISARM| | \\n      _DISARM| 41885696| _DISARM| 31883264| _DISARM| 11| _DISARM| 11| _DISARM| 24| _DISARM| 70904| _DISARM| 0.000000| _DISARM| \\n      0.003935| _DISARM| 1882474490.632704| _DISARM| 1882474490.636639| _DISARM| 0.000000| _DISARM| | _ENDDISARM \\nNOTE: PROCEDURE SQL used (Total process time):\\n      real time           0.00 seconds\\n      cpu time            0.00 seconds\\n      \\n\\n755547     data _null_; file LOG; d = open(\\'sasdata2dataframe\\');\\n755548     length var $256;\\n755549     lrecl = attrn(d, \\'LRECL\\'); nvars = attrn(d, \\'NVARS\\');\\n755550     lr=\\'LRECL=\\'; vn=\\'VARNUMS=\\'; vl=\\'VARLIST=\\'; vt=\\'VARTYPE=\\';\\n755551     put lr lrecl; put vn nvars; put vl;\\n755552     do i = 1 to nvars; var = compress(varname(d, i), \\'00\\'x); put var; end;\\n755553     put vt;\\n755554     do i = 1 to nvars; var = vartype(d, i); put var; end;\\n755555     run;\\n\\nLRECL= 6989\\nVARNUMS= 35\\nVARLIST=\\ndescricaoItem\\nquantidadeItens\\nvalorEstimadoItem\\ndescricaoComplementarItem\\ntratamentoDiferenciado\\ndecreto7174\\nmargemPreferencial\\nunidadeFornecimento\\nsituacaoItem\\nfornecedorVencedor\\nvalorMenorLance\\ncpfCnpjFornecedor\\nfornecedorProposta\\nmarcaItem\\ndescricaoFabricanteItem\\ndescricaoDetalhadaItem\\nporteEmpresa\\ndeclaracaoMeEppCoop\\nquantidadeItensProposta\\nvalorUnitario\\nvalorGlobal\\ndesconto\\nvalorComDesconto\\ndataRegistro\\ndataDeclaracoes\\ndeclaracaoSuperveniente\\ndeclaracaoInfantil\\ndeclaracaoIndependente\\ndescricaoDeclaracaoCiencia\\ndescricaoMotivoCancelamento\\nvalorClassificado\\nvalorNegociado\\nobservacoes\\nanexosProposta\\nidItem\\nVARTYPE=\\nC\\nC\\nN\\nC\\nC\\nC\\nC\\nC\\nC\\nC\\nN\\nC\\nC\\nC\\nC\\nC\\nC\\nC\\nC\\nN\\nN\\nC\\nN\\nC\\nC\\nC\\nC\\nC\\nC\\nC\\nC\\nC\\nC\\nC\\nC\\nNOTE: MVA_DSIO.OPEN_CLOSE| _DISARM|         STOP| _DISARM| 2019-08-26T18:34:50,660-03:00| _DISARM| WorkspaceServer| _DISARM| SAS| \\n      _DISARM| | _DISARM| 1559| _DISARM| 31883264| _DISARM| 11| _DISARM| 11| _DISARM| 0| _DISARM| 71192| _DISARM| 0.000000| \\n      _DISARM| 0.007948| _DISARM| 1882474490.652372| _DISARM| 1882474490.660320| _DISARM| 0.000000| _DISARM| | _ENDDISARM \\nNOTE: MVA_DSIO.OPEN_CLOSE| _DISARM|         STOP| _DISARM| 2019-08-26T18:34:50,660-03:00| _DISARM| WorkspaceServer| _DISARM| SAS| \\n      _DISARM| | _DISARM| -1| _DISARM| 31883264| _DISARM| 11| _DISARM| 11| _DISARM| 0| _DISARM| 71192| _DISARM| 0.000000| _DISARM| \\n      0.003394| _DISARM| 1882474490.657544| _DISARM| 1882474490.660938| _DISARM| 0.000000| _DISARM| | _ENDDISARM \\nNOTE: PROCEDURE| _DISARM|         STOP| _DISARM| 2019-08-26T18:34:50,661-03:00| _DISARM| WorkspaceServer| _DISARM| SAS| _DISARM| | \\n      _DISARM| 41885696| _DISARM| 31883264| _DISARM| 11| _DISARM| 11| _DISARM| 288| _DISARM| 71192| _DISARM| 0.020000| _DISARM| \\n      0.022678| _DISARM| 1882474490.638669| _DISARM| 1882474490.661347| _DISARM| 0.010000| _DISARM| | _ENDDISARM \\nNOTE: DATA statement used (Total process time):\\n      real time           0.02 seconds\\n      cpu time            0.02 seconds\\n      \\n\\n755556     \\n755557     ;*\\';*\";*/;\\n755558     %put E3969440A681A2408885998500000015;\\nE3969440A681A2408885998500000015\\n755559     \\n\\x0c22                                                         The SAS System                              18:24 Monday, August 26, 2019\\n\\n755560     ;*\\';*\";*/;\\n755561     data work._n_u_l_l_;output;run;\\n\\nNOTE: The data set WORK._N_U_L_L_ has 1 observations and 0 variables.\\nNOTE: MVA_DSIO.OPEN_CLOSE| _DISARM|         STOP| _DISARM| 2019-08-26T18:34:50,748-03:00| _DISARM| WorkspaceServer| _DISARM| SAS| \\n      _DISARM| | _DISARM| 1| _DISARM| 31883264| _DISARM| 11| _DISARM| 11| _DISARM| 136| _DISARM| 71328| _DISARM| 0.010000| _DISARM| \\n      0.004180| _DISARM| 1882474490.744209| _DISARM| 1882474490.748389| _DISARM| 0.000000| _DISARM| | _ENDDISARM \\nNOTE: PROCEDURE| _DISARM|         STOP| _DISARM| 2019-08-26T18:34:50,748-03:00| _DISARM| WorkspaceServer| _DISARM| SAS| _DISARM| | \\n      _DISARM| 41885696| _DISARM| 31883264| _DISARM| 11| _DISARM| 11| _DISARM| 136| _DISARM| 71328| _DISARM| 0.010000| _DISARM| \\n      0.007159| _DISARM| 1882474490.741751| _DISARM| 1882474490.748910| _DISARM| 0.000000| _DISARM| | _ENDDISARM \\nNOTE: DATA statement used (Total process time):\\n      real time           0.00 seconds\\n      cpu time            0.01 seconds\\n      \\n\\n755562     data _null_; set LIB_MATR.BASE_PREGAO_PROPOSTA(obs=0 ) work._n_u_l_l_;put \\'FMT_CATS=\\';\\n755563     _tom = vformatn(\\'descricaoItem\\'n);put _tom;\\n755564     _tom = vformatn(\\'quantidadeItens\\'n);put _tom;\\n755565     _tom = vformatn(\\'valorEstimadoItem\\'n);put _tom;\\n755566     _tom = vformatn(\\'descricaoComplementarItem\\'n);put _tom;\\n755567     _tom = vformatn(\\'tratamentoDiferenciado\\'n);put _tom;\\n755568     _tom = vformatn(\\'decreto7174\\'n);put _tom;\\n755569     _tom = vformatn(\\'margemPreferencial\\'n);put _tom;\\n755570     _tom = vformatn(\\'unidadeFornecimento\\'n);put _tom;\\n755571     _tom = vformatn(\\'situacaoItem\\'n);put _tom;\\n755572     _tom = vformatn(\\'fornecedorVencedor\\'n);put _tom;\\n755573     _tom = vformatn(\\'valorMenorLance\\'n);put _tom;\\n755574     _tom = vformatn(\\'cpfCnpjFornecedor\\'n);put _tom;\\n755575     _tom = vformatn(\\'fornecedorProposta\\'n);put _tom;\\n755576     _tom = vformatn(\\'marcaItem\\'n);put _tom;\\n755577     _tom = vformatn(\\'descricaoFabricanteItem\\'n);put _tom;\\n755578     _tom = vformatn(\\'descricaoDetalhadaItem\\'n);put _tom;\\n755579     _tom = vformatn(\\'porteEmpresa\\'n);put _tom;\\n755580     _tom = vformatn(\\'declaracaoMeEppCoop\\'n);put _tom;\\n755581     _tom = vformatn(\\'quantidadeItensProposta\\'n);put _tom;\\n755582     _tom = vformatn(\\'valorUnitario\\'n);put _tom;\\n755583     _tom = vformatn(\\'valorGlobal\\'n);put _tom;\\n755584     _tom = vformatn(\\'desconto\\'n);put _tom;\\n755585     _tom = vformatn(\\'valorComDesconto\\'n);put _tom;\\n755586     _tom = vformatn(\\'dataRegistro\\'n);put _tom;\\n755587     _tom = vformatn(\\'dataDeclaracoes\\'n);put _tom;\\n755588     _tom = vformatn(\\'declaracaoSuperveniente\\'n);put _tom;\\n755589     _tom = vformatn(\\'declaracaoInfantil\\'n);put _tom;\\n755590     _tom = vformatn(\\'declaracaoIndependente\\'n);put _tom;\\n755591     _tom = vformatn(\\'descricaoDeclaracaoCiencia\\'n);put _tom;\\n755592     _tom = vformatn(\\'descricaoMotivoCancelamento\\'n);put _tom;\\n755593     _tom = vformatn(\\'valorClassificado\\'n);put _tom;\\n755594     _tom = vformatn(\\'valorNegociado\\'n);put _tom;\\n755595     _tom = vformatn(\\'observacoes\\'n);put _tom;\\n755596     _tom = vformatn(\\'anexosProposta\\'n);put _tom;\\n755597     _tom = vformatn(\\'idItem\\'n);put _tom;\\n755598     run;\\n\\nFMT_CATS=\\n$\\n$\\nBEST\\n$\\n$\\n$\\n$\\n$\\n$\\n$\\nBEST\\n$\\n$\\n$\\n$\\n$\\n$\\n$\\n$\\nBEST\\nBEST\\n$\\nBEST\\n$\\n$\\n$\\n$\\n$\\n$\\n$\\n$\\n$\\n$\\n$\\n$\\nNOTE: There were 0 observations read from the data set LIB_MATR.BASE_PREGAO_PROPOSTA.\\nNOTE: MVA_DSIO.OPEN_CLOSE| _DISARM|         STOP| _DISARM| 2019-08-26T18:34:50,760-03:00| _DISARM| WorkspaceServer| _DISARM| SAS| \\n      _DISARM| | _DISARM| 1559| _DISARM| 32145408| _DISARM| 11| _DISARM| 11| _DISARM| 0| _DISARM| 71336| _DISARM| 0.000000| \\n      _DISARM| 0.007082| _DISARM| 1882474490.753939| _DISARM| 1882474490.761021| _DISARM| 0.000000| _DISARM| | _ENDDISARM \\nNOTE: There were 1 observations read from the data set WORK._N_U_L_L_.\\nNOTE: MVA_DSIO.OPEN_CLOSE| _DISARM|         STOP| _DISARM| 2019-08-26T18:34:50,761-03:00| _DISARM| WorkspaceServer| _DISARM| SAS| \\n      _DISARM| | _DISARM| 1| _DISARM| 32145408| _DISARM| 11| _DISARM| 11| _DISARM| 0| _DISARM| 71336| _DISARM| 0.000000| _DISARM| \\n      0.006745| _DISARM| 1882474490.754831| _DISARM| 1882474490.761576| _DISARM| 0.000000| _DISARM| | _ENDDISARM \\nNOTE: PROCEDURE| _DISARM|         STOP| _DISARM| 2019-08-26T18:34:50,761-03:00| _DISARM| WorkspaceServer| _DISARM| SAS| _DISARM| | \\n      _DISARM| 41885696| _DISARM| 32145408| _DISARM| 11| _DISARM| 11| _DISARM| 0| _DISARM| 71336| _DISARM| 0.010000| _DISARM| \\n      0.011409| _DISARM| 1882474490.750575| _DISARM| 1882474490.761984| _DISARM| 0.010000| _DISARM| | _ENDDISARM \\nNOTE: DATA statement used (Total process time):\\n      real time           0.01 seconds\\n      cpu time            0.01 seconds\\n      \\n\\n755599     proc delete data=work._n_u_l_l_;run;\\n\\nNOTE: Deleting WORK._N_U_L_L_ (memtype=DATA).\\nNOTE: PROCEDURE| _DISARM|         STOP| _DISARM| 2019-08-26T18:34:50,766-03:00| _DISARM| WorkspaceServer| _DISARM| SAS| _DISARM| | \\n      _DISARM| 41885696| _DISARM| 31883264| _DISARM| 11| _DISARM| 11| _DISARM| 0| _DISARM| 71336| _DISARM| 0.000000| _DISARM| \\n      0.002139| _DISARM| 1882474490.763990| _DISARM| 1882474490.766129| _DISARM| 0.000000| _DISARM| | _ENDDISARM \\nNOTE: PROCEDURE DELETE used (Total process time):\\n      real time           0.00 seconds\\n      cpu time            0.00 seconds\\n      \\n\\n755600     \\n755601     ;*\\';*\";*/;\\n755602     %put E3969440A681A2408885998500000016;\\nE3969440A681A2408885998500000016\\n755603     \\n'"
      ]
     },
     "execution_count": 33,
     "metadata": {},
     "output_type": "execute_result"
    }
   ],
   "source": [
    "log"
   ]
  },
  {
   "cell_type": "code",
   "execution_count": 32,
   "metadata": {},
   "outputs": [
    {
     "ename": "ValueError",
     "evalue": "cannot index with vector containing NA / NaN values",
     "output_type": "error",
     "traceback": [
      "\u001b[1;31m---------------------------------------------------------------------------\u001b[0m",
      "\u001b[1;31mValueError\u001b[0m                                Traceback (most recent call last)",
      "\u001b[1;32m<ipython-input-32-90557e629642>\u001b[0m in \u001b[0;36m<module>\u001b[1;34m\u001b[0m\n\u001b[1;32m----> 1\u001b[1;33m \u001b[0mprop\u001b[0m\u001b[1;33m.\u001b[0m\u001b[0mloc\u001b[0m\u001b[1;33m[\u001b[0m\u001b[0mprop\u001b[0m\u001b[1;33m[\u001b[0m\u001b[1;34m'descricaoComplementarItem'\u001b[0m\u001b[1;33m]\u001b[0m\u001b[1;33m.\u001b[0m\u001b[0mstr\u001b[0m\u001b[1;33m.\u001b[0m\u001b[0mcontains\u001b[0m\u001b[1;33m(\u001b[0m\u001b[1;34m'ALMOFADA CARIMBO, MATERIAL CAIXA PLÁSTICO/METAL, TAMANHO Nº 3, COR AZUL'\u001b[0m\u001b[1;33m)\u001b[0m\u001b[1;33m]\u001b[0m\u001b[1;33m\u001b[0m\u001b[1;33m\u001b[0m\u001b[0m\n\u001b[0m",
      "\u001b[1;32mc:\\users\\cardoso\\pycharmprojects\\comprasnet\\venv\\lib\\site-packages\\pandas\\core\\indexing.py\u001b[0m in \u001b[0;36m__getitem__\u001b[1;34m(self, key)\u001b[0m\n\u001b[0;32m   1408\u001b[0m \u001b[1;33m\u001b[0m\u001b[0m\n\u001b[0;32m   1409\u001b[0m             \u001b[0mmaybe_callable\u001b[0m \u001b[1;33m=\u001b[0m \u001b[0mcom\u001b[0m\u001b[1;33m.\u001b[0m\u001b[0mapply_if_callable\u001b[0m\u001b[1;33m(\u001b[0m\u001b[0mkey\u001b[0m\u001b[1;33m,\u001b[0m \u001b[0mself\u001b[0m\u001b[1;33m.\u001b[0m\u001b[0mobj\u001b[0m\u001b[1;33m)\u001b[0m\u001b[1;33m\u001b[0m\u001b[1;33m\u001b[0m\u001b[0m\n\u001b[1;32m-> 1410\u001b[1;33m             \u001b[1;32mreturn\u001b[0m \u001b[0mself\u001b[0m\u001b[1;33m.\u001b[0m\u001b[0m_getitem_axis\u001b[0m\u001b[1;33m(\u001b[0m\u001b[0mmaybe_callable\u001b[0m\u001b[1;33m,\u001b[0m \u001b[0maxis\u001b[0m\u001b[1;33m=\u001b[0m\u001b[0maxis\u001b[0m\u001b[1;33m)\u001b[0m\u001b[1;33m\u001b[0m\u001b[1;33m\u001b[0m\u001b[0m\n\u001b[0m\u001b[0;32m   1411\u001b[0m \u001b[1;33m\u001b[0m\u001b[0m\n\u001b[0;32m   1412\u001b[0m     \u001b[1;32mdef\u001b[0m \u001b[0m_is_scalar_access\u001b[0m\u001b[1;33m(\u001b[0m\u001b[0mself\u001b[0m\u001b[1;33m,\u001b[0m \u001b[0mkey\u001b[0m\u001b[1;33m:\u001b[0m \u001b[0mTuple\u001b[0m\u001b[1;33m)\u001b[0m\u001b[1;33m:\u001b[0m\u001b[1;33m\u001b[0m\u001b[1;33m\u001b[0m\u001b[0m\n",
      "\u001b[1;32mc:\\users\\cardoso\\pycharmprojects\\comprasnet\\venv\\lib\\site-packages\\pandas\\core\\indexing.py\u001b[0m in \u001b[0;36m_getitem_axis\u001b[1;34m(self, key, axis)\u001b[0m\n\u001b[0;32m   1771\u001b[0m             \u001b[0mself\u001b[0m\u001b[1;33m.\u001b[0m\u001b[0m_validate_key\u001b[0m\u001b[1;33m(\u001b[0m\u001b[0mkey\u001b[0m\u001b[1;33m,\u001b[0m \u001b[0maxis\u001b[0m\u001b[1;33m)\u001b[0m\u001b[1;33m\u001b[0m\u001b[1;33m\u001b[0m\u001b[0m\n\u001b[0;32m   1772\u001b[0m             \u001b[1;32mreturn\u001b[0m \u001b[0mself\u001b[0m\u001b[1;33m.\u001b[0m\u001b[0m_get_slice_axis\u001b[0m\u001b[1;33m(\u001b[0m\u001b[0mkey\u001b[0m\u001b[1;33m,\u001b[0m \u001b[0maxis\u001b[0m\u001b[1;33m=\u001b[0m\u001b[0maxis\u001b[0m\u001b[1;33m)\u001b[0m\u001b[1;33m\u001b[0m\u001b[1;33m\u001b[0m\u001b[0m\n\u001b[1;32m-> 1773\u001b[1;33m         \u001b[1;32melif\u001b[0m \u001b[0mcom\u001b[0m\u001b[1;33m.\u001b[0m\u001b[0mis_bool_indexer\u001b[0m\u001b[1;33m(\u001b[0m\u001b[0mkey\u001b[0m\u001b[1;33m)\u001b[0m\u001b[1;33m:\u001b[0m\u001b[1;33m\u001b[0m\u001b[1;33m\u001b[0m\u001b[0m\n\u001b[0m\u001b[0;32m   1774\u001b[0m             \u001b[1;32mreturn\u001b[0m \u001b[0mself\u001b[0m\u001b[1;33m.\u001b[0m\u001b[0m_getbool_axis\u001b[0m\u001b[1;33m(\u001b[0m\u001b[0mkey\u001b[0m\u001b[1;33m,\u001b[0m \u001b[0maxis\u001b[0m\u001b[1;33m=\u001b[0m\u001b[0maxis\u001b[0m\u001b[1;33m)\u001b[0m\u001b[1;33m\u001b[0m\u001b[1;33m\u001b[0m\u001b[0m\n\u001b[0;32m   1775\u001b[0m         \u001b[1;32melif\u001b[0m \u001b[0mis_list_like_indexer\u001b[0m\u001b[1;33m(\u001b[0m\u001b[0mkey\u001b[0m\u001b[1;33m)\u001b[0m\u001b[1;33m:\u001b[0m\u001b[1;33m\u001b[0m\u001b[1;33m\u001b[0m\u001b[0m\n",
      "\u001b[1;32mc:\\users\\cardoso\\pycharmprojects\\comprasnet\\venv\\lib\\site-packages\\pandas\\core\\common.py\u001b[0m in \u001b[0;36mis_bool_indexer\u001b[1;34m(key)\u001b[0m\n\u001b[0;32m    128\u001b[0m             \u001b[1;32mif\u001b[0m \u001b[1;32mnot\u001b[0m \u001b[0mlib\u001b[0m\u001b[1;33m.\u001b[0m\u001b[0mis_bool_array\u001b[0m\u001b[1;33m(\u001b[0m\u001b[0mkey\u001b[0m\u001b[1;33m)\u001b[0m\u001b[1;33m:\u001b[0m\u001b[1;33m\u001b[0m\u001b[1;33m\u001b[0m\u001b[0m\n\u001b[0;32m    129\u001b[0m                 \u001b[1;32mif\u001b[0m \u001b[0misna\u001b[0m\u001b[1;33m(\u001b[0m\u001b[0mkey\u001b[0m\u001b[1;33m)\u001b[0m\u001b[1;33m.\u001b[0m\u001b[0many\u001b[0m\u001b[1;33m(\u001b[0m\u001b[1;33m)\u001b[0m\u001b[1;33m:\u001b[0m\u001b[1;33m\u001b[0m\u001b[1;33m\u001b[0m\u001b[0m\n\u001b[1;32m--> 130\u001b[1;33m                     \u001b[1;32mraise\u001b[0m \u001b[0mValueError\u001b[0m\u001b[1;33m(\u001b[0m\u001b[0mna_msg\u001b[0m\u001b[1;33m)\u001b[0m\u001b[1;33m\u001b[0m\u001b[1;33m\u001b[0m\u001b[0m\n\u001b[0m\u001b[0;32m    131\u001b[0m                 \u001b[1;32mreturn\u001b[0m \u001b[1;32mFalse\u001b[0m\u001b[1;33m\u001b[0m\u001b[1;33m\u001b[0m\u001b[0m\n\u001b[0;32m    132\u001b[0m             \u001b[1;32mreturn\u001b[0m \u001b[1;32mTrue\u001b[0m\u001b[1;33m\u001b[0m\u001b[1;33m\u001b[0m\u001b[0m\n",
      "\u001b[1;31mValueError\u001b[0m: cannot index with vector containing NA / NaN values"
     ]
    }
   ],
   "source": [
    "prop.loc[prop['descricaoComplementarItem'].str.contains('ALMOFADA CARIMBO, MATERIAL CAIXA PLÁSTICO/METAL, TAMANHO Nº 3, COR AZUL')]"
   ]
  },
  {
   "cell_type": "code",
   "execution_count": null,
   "metadata": {},
   "outputs": [],
   "source": []
  },
  {
   "cell_type": "code",
   "execution_count": null,
   "metadata": {},
   "outputs": [],
   "source": []
  },
  {
   "cell_type": "code",
   "execution_count": 20,
   "metadata": {},
   "outputs": [
    {
     "data": {
      "text/plain": [
       "1559"
      ]
     },
     "execution_count": 20,
     "metadata": {},
     "output_type": "execute_result"
    }
   ],
   "source": [
    "len(prop2)"
   ]
  },
  {
   "cell_type": "code",
   "execution_count": 32,
   "metadata": {},
   "outputs": [
    {
     "name": "stdout",
     "output_type": "stream",
     "text": [
      "SAS Connection terminated. Subprocess id was 21304\n"
     ]
    }
   ],
   "source": [
    "sas.endsas()"
   ]
  },
  {
   "cell_type": "code",
   "execution_count": 37,
   "metadata": {},
   "outputs": [
    {
     "data": {
      "text/plain": [
       "'?Flávio'"
      ]
     },
     "execution_count": 37,
     "metadata": {},
     "output_type": "execute_result"
    }
   ],
   "source": [
    "'\\u02c6Flávio'.encode('latin1', errors='replace').decode('latin1')"
   ]
  },
  {
   "cell_type": "code",
   "execution_count": 34,
   "metadata": {},
   "outputs": [
    {
     "name": "stdout",
     "output_type": "stream",
     "text": [
      "Help on method_descriptor:\n",
      "\n",
      "encode(self, /, encoding='utf-8', errors='strict')\n",
      "    Encode the string using the codec registered for encoding.\n",
      "    \n",
      "    encoding\n",
      "      The encoding in which to encode the string.\n",
      "    errors\n",
      "      The error handling scheme to use for encoding errors.\n",
      "      The default is 'strict' meaning that encoding errors raise a\n",
      "      UnicodeEncodeError.  Other possible values are 'ignore', 'replace' and\n",
      "      'xmlcharrefreplace' as well as any other name registered with\n",
      "      codecs.register_error that can handle UnicodeEncodeErrors.\n",
      "\n"
     ]
    }
   ],
   "source": [
    "help(str.encode)"
   ]
  },
  {
   "cell_type": "code",
   "execution_count": 23,
   "metadata": {},
   "outputs": [],
   "source": [
    "def para_sas(dfs):\n",
    "    \"\"\"\n",
    "    Carrega os dataframes pandas para a library do SAS.\n",
    "    :param dfs: dicionário contendo os dataframes a serem carregados\n",
    "    :return: none\n",
    "    \"\"\"\n",
    "    sas = saspy.SASsession()\n",
    "    for k, v in dfs.items():\n",
    "        print(f'Carregando tabela {tabelas[k]}... ', end='')\n",
    "        sas.df2sd(df=dfs[k], table=tabelas[k], libref=SAS_LIBREF)\n",
    "        print('OK.')\n",
    "    sas.disconnect()\n",
    "    sas.endsas()\n",
    "    return"
   ]
  },
  {
   "cell_type": "code",
   "execution_count": 27,
   "metadata": {},
   "outputs": [
    {
     "name": "stdout",
     "output_type": "stream",
     "text": [
      "Using SAS Config named: winiomlinux\n",
      "SAS Connection established. Subprocess id is 19144\n",
      "\n"
     ]
    }
   ],
   "source": [
    "sas = saspy.SASsession()"
   ]
  },
  {
   "cell_type": "code",
   "execution_count": 28,
   "metadata": {},
   "outputs": [
    {
     "data": {
      "text/plain": [
       "['WORK',\n",
       " 'SASDATA',\n",
       " 'LIB_MATR',\n",
       " 'RFB',\n",
       " 'LIB_NIE',\n",
       " 'ECONTAS',\n",
       " 'SEGECEX',\n",
       " 'PESSOAS',\n",
       " 'SANCAO',\n",
       " 'RAIS',\n",
       " 'SISEDITA',\n",
       " 'STPSAMP',\n",
       " 'FCMENRCH',\n",
       " 'FCM_SLIB',\n",
       " 'FCMPREP',\n",
       " 'FCMATEMP',\n",
       " 'SASHELP',\n",
       " 'MAPS',\n",
       " 'MAPSSAS',\n",
       " 'MAPSGFK',\n",
       " 'SASUSER']"
      ]
     },
     "execution_count": 28,
     "metadata": {},
     "output_type": "execute_result"
    }
   ],
   "source": [
    "sas.assigned_librefs()"
   ]
  },
  {
   "cell_type": "code",
   "execution_count": 29,
   "metadata": {},
   "outputs": [
    {
     "data": {
      "text/plain": [
       "'LIBMATR'"
      ]
     },
     "execution_count": 29,
     "metadata": {},
     "output_type": "execute_result"
    }
   ],
   "source": [
    "SAS_LIBREF"
   ]
  },
  {
   "cell_type": "code",
   "execution_count": null,
   "metadata": {},
   "outputs": [],
   "source": []
  }
 ],
 "metadata": {
  "kernelspec": {
   "display_name": "Python 3",
   "language": "python",
   "name": "python3"
  },
  "language_info": {
   "codemirror_mode": {
    "name": "ipython",
    "version": 3
   },
   "file_extension": ".py",
   "mimetype": "text/x-python",
   "name": "python",
   "nbconvert_exporter": "python",
   "pygments_lexer": "ipython3",
   "version": "3.7.3"
  }
 },
 "nbformat": 4,
 "nbformat_minor": 4
}
